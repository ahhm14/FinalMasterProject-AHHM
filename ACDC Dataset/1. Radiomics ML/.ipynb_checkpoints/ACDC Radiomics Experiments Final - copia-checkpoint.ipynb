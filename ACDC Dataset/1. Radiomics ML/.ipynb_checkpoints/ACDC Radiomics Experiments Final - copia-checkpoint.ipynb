{
 "cells": [
  {
   "cell_type": "markdown",
   "metadata": {},
   "source": [
    "# ACDC Challenge \n",
    "\n",
    "In this notebook we will try to obatain the best model for classiying CVD with the use of radiomics data.\n",
    "\n",
    "We will create a pipeline to work through the data and compare the experiments"
   ]
  },
  {
   "cell_type": "code",
   "execution_count": 1,
   "metadata": {},
   "outputs": [],
   "source": [
    "### import the packages and libraries\n",
    "import pandas as pd\n",
    "import matplotlib.pyplot as plt\n",
    "import numpy as np\n",
    "from sklearn.model_selection import train_test_split, StratifiedKFold, cross_val_score\n",
    "from sklearn.preprocessing import LabelEncoder, MinMaxScaler\n",
    "from sklearn.linear_model import LogisticRegression\n",
    "from sklearn.ensemble import RandomForestClassifier, GradientBoostingClassifier\n",
    "from sklearn.neighbors import KNeighborsClassifier\n",
    "from sklearn.metrics import f1_score, accuracy_score, confusion_matrix, classification_report, precision_score\n",
    "from sklearn.svm import LinearSVC, SVC\n",
    "from sklearn.feature_selection import SelectKBest, f_classif, chi2, RFECV, RFE\n",
    "from sklearn.model_selection import GridSearchCV\n",
    "from mlxtend.feature_selection import SequentialFeatureSelector as SFS\n",
    "from mlxtend.plotting import plot_sequential_feature_selection as plot_sfs\n",
    "from sklearn.pipeline import Pipeline\n",
    "from skopt import BayesSearchCV\n",
    "from skopt.space import Real, Integer\n",
    "# from sklearn.multiclass import OneVsRestClassifier, OneVsOneClassifier"
   ]
  },
  {
   "cell_type": "markdown",
   "metadata": {},
   "source": [
    "## Machine Learning Pipeline\n",
    "\n",
    "1. Dataset \n",
    "2. Feature Engineering/Selection\n",
    "4. ML Algorithms\n",
    "5. Training and Testing on ACDC Challenge Dataset"
   ]
  },
  {
   "cell_type": "markdown",
   "metadata": {},
   "source": [
    "### 1. Dataset\n",
    "\n",
    "We will load the training and test dataset, which contain the extracted radiomics of 100 and 50 patients, respectively. It will also contain the clinical data (only height and weight available) and the class of the patient (each of the 4 diseases or normal state). We will create a function to prepare the datasets."
   ]
  },
  {
   "cell_type": "code",
   "execution_count": 2,
   "metadata": {},
   "outputs": [
    {
     "name": "stdout",
     "output_type": "stream",
     "text": [
      "(100, 777)\n",
      "(50, 777)\n"
     ]
    }
   ],
   "source": [
    "train_df = pd.read_csv('Extracted_radiomics\\ACDC_(Radiomics+Clinical)_Training.csv')\n",
    "print(train_df.shape)\n",
    "test_df = pd.read_csv('Extracted_radiomics\\ACDC_(Radiomics+Clinical)_Testing.csv')\n",
    "print(test_df.shape)"
   ]
  },
  {
   "cell_type": "markdown",
   "metadata": {},
   "source": [
    "We know from prior knowledge that both the train and test dataset are equally balanced."
   ]
  },
  {
   "cell_type": "markdown",
   "metadata": {},
   "source": [
    "We also know that there are features that are not numeric and are just the product of the of the radiomics library that will not be needed for our model. We show them and we are going to eliminate them."
   ]
  },
  {
   "cell_type": "code",
   "execution_count": 3,
   "metadata": {},
   "outputs": [
    {
     "name": "stdout",
     "output_type": "stream",
     "text": [
      "(100, 645)\n",
      "(50, 645)\n"
     ]
    }
   ],
   "source": [
    "train_df = train_df.loc[:,~ train_df.columns.str.startswith('diagnostics')]\n",
    "test_df = test_df.loc[:,~ test_df.columns.str.startswith('diagnostics')]\n",
    "print(train_df.shape)\n",
    "print(test_df.shape)"
   ]
  },
  {
   "cell_type": "code",
   "execution_count": 4,
   "metadata": {},
   "outputs": [],
   "source": [
    "y_train = train_df['class']\n",
    "y_test = test_df['class']"
   ]
  },
  {
   "cell_type": "code",
   "execution_count": 5,
   "metadata": {},
   "outputs": [],
   "source": [
    "ED_train_df = train_df.filter(regex='ED')\n",
    "ES_train_df = train_df.filter(regex='ES')\n",
    "\n",
    "ED_test_df = test_df.filter(regex='ED')\n",
    "ES_test_df = test_df.filter(regex='ES')"
   ]
  },
  {
   "cell_type": "code",
   "execution_count": 6,
   "metadata": {},
   "outputs": [],
   "source": [
    "# ED_train_df = pd.concat([ED_train_df, class_df_train], axis=1)\n",
    "# ES_train_df = pd.concat([ES_train_df, class_df_train], axis=1)\n",
    "\n",
    "# ED_test_df = pd.concat([ED_test_df, class_df_test], axis=1)\n",
    "# ES_test_df = pd.concat([ES_test_df, class_df_test], axis=1)"
   ]
  },
  {
   "cell_type": "code",
   "execution_count": 7,
   "metadata": {},
   "outputs": [],
   "source": [
    "rad_train = pd.concat([ED_train_df, ES_train_df], axis = 1)\n",
    "rad_test = pd.concat([ED_test_df, ES_train_df], axis = 1)"
   ]
  },
  {
   "cell_type": "code",
   "execution_count": 8,
   "metadata": {},
   "outputs": [],
   "source": [
    "med_info_train = train_df.iloc[:,-3:-1]\n",
    "med_info_test = test_df.iloc[:,-3:-1]"
   ]
  },
  {
   "cell_type": "code",
   "execution_count": 9,
   "metadata": {},
   "outputs": [],
   "source": [
    "all_data_train = pd.concat([rad_train, med_info_train], axis=1)\n",
    "all_data_test = pd.concat([rad_test, med_info_test], axis=1)"
   ]
  },
  {
   "cell_type": "markdown",
   "metadata": {},
   "source": [
    "### 2. Feature Engineering/Selection"
   ]
  },
  {
   "cell_type": "markdown",
   "metadata": {},
   "source": [
    "##### Feature Engineering\n",
    "* MinMaxScaler for all the features \n",
    "* Encoding Class values "
   ]
  },
  {
   "cell_type": "code",
   "execution_count": 10,
   "metadata": {},
   "outputs": [],
   "source": [
    "def processing(X_train,y_train, X_test, y_test):\n",
    "    #tools scaling and labelling\n",
    "    scaler = MinMaxScaler()\n",
    "    encoder = LabelEncoder()\n",
    "    \n",
    "    X_train = scaler.fit_transform(X_train)\n",
    "    X_test = scaler.transform(X_test)\n",
    "    \n",
    "    y_train = encoder.fit_transform(y_train)\n",
    "    y_test = encoder.fit_transform(y_test)\n",
    "    \n",
    "    return X_train, y_train, X_test, y_test"
   ]
  },
  {
   "cell_type": "markdown",
   "metadata": {},
   "source": [
    "##### Feature Selection\n",
    "\n",
    "For this section we aim to apply several techiniques for feature selection and compare the performance with each proposed model/learning algorithm of the section 3"
   ]
  },
  {
   "cell_type": "markdown",
   "metadata": {},
   "source": [
    "Set of Techniques we are going to use:\n",
    "1. <u> K-Best </u>: This method is a **filter method**, which select features according the K-Highest Score of an statistical Test. For this one we are going to use both **Anova-Test** and **Chi-Suared-Test**.\n",
    "\n",
    "2. <u> Sequential Forward Feature Elimination </u>: automatically select a subset of features that is most relevant to the problem. The goal of feature selection is two-fold: We want to improve the computational efficiency and reduce the generalization error of the model by removing irrelevant features or noise. http://rasbt.github.io/mlxtend/user_guide/feature_selection/SequentialFeatureSelector/#example-1-a-simple-sequential-forward-selection-example"
   ]
  },
  {
   "cell_type": "markdown",
   "metadata": {},
   "source": [
    "#### Models"
   ]
  },
  {
   "cell_type": "markdown",
   "metadata": {},
   "source": [
    "We combine Feature Selection methods as part of the Grid Search Method"
   ]
  },
  {
   "cell_type": "code",
   "execution_count": 11,
   "metadata": {},
   "outputs": [],
   "source": [
    "def KBest_GS(X_train, y_train, X_test, y_test, model, param_grid, df):\n",
    "    \n",
    "    featss =np.arange(3,X_train.shape[1])\n",
    "    \n",
    "    selector = SelectKBest()\n",
    "    \n",
    "    ### Pipeline\n",
    "    \n",
    "    ### we would need to adapt the \"NUMBER OF FEATURES PARAMETER OF THE GRID\"\n",
    "    \n",
    "    pipe = Pipeline([('selector', selector), \n",
    "                 ('model', model)])\n",
    "    \n",
    "    dict_1 = {'selector__score_func': [f_classif, chi2],\n",
    "              'selector__k':featss}   #### para pruebas\n",
    "    \n",
    "    dict_1.update(param_grid)\n",
    "    \n",
    "    gs = GridSearchCV(estimator=pipe, \n",
    "                  param_grid=dict_1, \n",
    "                  scoring='accuracy', \n",
    "                  n_jobs=1, \n",
    "                  cv=StratifiedKFold(4, shuffle=True, random_state=42),\n",
    "                  iid=True,\n",
    "                  refit=True,\n",
    "                verbose=3)\n",
    "    \n",
    "    print(pipe.get_params().keys())\n",
    "    \n",
    "    gs = gs.fit(X_train, y_train)\n",
    "    \n",
    "    print(\"Best Model\", gs.best_params_)\n",
    "    \n",
    "    print('Best score:', gs.best_score_)\n",
    "    \n",
    "    y_test_pred = gs.predict(X_test)\n",
    "    \n",
    "    test_acc = accuracy_score(y_test,y_test_pred)\n",
    "    \n",
    "    print(\"\\n Test Accuracy with best estimator: \", test_acc)\n",
    "    \n",
    "    cm = confusion_matrix(y_test, y_test_pred)\n",
    "    print(cm)\n",
    "        \n",
    "    cm_normalized = cm.astype('float') / cm.sum(axis=1)[:, np.newaxis]\n",
    "    \n",
    "    plt.figure(figsize=(8,4))\n",
    "    \n",
    "    plt.imshow(cm_normalized, interpolation='nearest', cmap=plt.cm.Blues)\n",
    "    plt.title(\"Confusion Matrix\")\n",
    "    sns.heatmap(cm, cmap=plt.cm.Blues, annot=True)\n",
    "    plt.tight_layout()\n",
    "\n",
    "    class_list = ['DCM', 'HCM', 'MINF', 'NOR', 'RV']\n",
    "\n",
    "    tick_marks = np.arange(len(class_list))\n",
    "    plt.xticks(tick_marks+0.5, class_list, rotation=45)\n",
    "    plt.yticks(tick_marks+0.5, class_list)\n",
    "    plt.ylabel('True label')\n",
    "    plt.xlabel('Predicted label')\n",
    "    plt.show()\n",
    "\n",
    "    print(classification_report(y_test, y_test_pred,target_names=class_list))\n",
    "    \n",
    "    cols = gs.best_estimator_.steps[0][1].get_support(indices=True)\n",
    "    print(df.iloc[:,cols].columns)\n",
    "    K_best= df.iloc[:,cols].columns\n",
    "    \n",
    "    \n",
    "    return gs, K_best"
   ]
  },
  {
   "cell_type": "markdown",
   "metadata": {},
   "source": [
    "---\n",
    "\n",
    "#### Sequential Foward Selection"
   ]
  },
  {
   "cell_type": "code",
   "execution_count": 64,
   "metadata": {},
   "outputs": [],
   "source": [
    "# #### Grid Search Sequential Forward Elimination\n",
    "\n",
    "def SFS_GS(X_train, y_train, X_test, y_test, model, param_grid, df):\n",
    "    # Setting up the SFS\n",
    "    sfs1 = SFS(estimator=model,\n",
    "               k_features=15,\n",
    "               forward=True,\n",
    "               floating=False,\n",
    "               scoring='accuracy',\n",
    "               cv=StratifiedKFold(3, shuffle=True, random_state=42))\n",
    "\n",
    "    ### Pipeline\n",
    "\n",
    "    ### we would need to adapt the \"NUMBER OF FEATURES PARAMETER OF THE GRID\"\n",
    "\n",
    "    pipe = Pipeline([('sfs', sfs1),\n",
    "                     ('model', model)])\n",
    "\n",
    "    # dict_1 = {'sfs__k_features':list(range(1,X_train.shape[1]))}   #### para pruebas\n",
    "\n",
    "    dict_1 = {'sfs__k_features': [5,10]}  # pruebas\n",
    "\n",
    "    dict_1.update(param_grid)\n",
    "\n",
    "    gs = GridSearchCV(estimator=pipe,\n",
    "                      param_grid=dict_1,\n",
    "                      scoring='accuracy',\n",
    "                      n_jobs=1,\n",
    "                      cv=StratifiedKFold(4, shuffle=True, random_state=42),\n",
    "                      verbose=3,\n",
    "                      refit=True)\n",
    "\n",
    "    #     print(pipe.get_params().keys())\n",
    "\n",
    "    gs = gs.fit(X_train, y_train)\n",
    "\n",
    "    #     print(gs.best_estimator_.steps)\n",
    "\n",
    "    print(\"Best Model\", gs.best_params_)\n",
    "\n",
    "    #     print('Best score:', gs.best_score_)\n",
    "\n",
    "    y_test_pred = gs.predict(X_test)\n",
    "\n",
    "    test_acc = accuracy_score(y_test, y_test_pred)\n",
    "\n",
    "    print(\"\\n Test Accuracy with best estimator: \", test_acc)\n",
    "\n",
    "    cm = confusion_matrix(y_test, y_test_pred)\n",
    "\n",
    "    cm_normalized = cm.astype('float') / cm.sum(axis=1)[:, np.newaxis]\n",
    "\n",
    "    plt.figure(figsize=(8, 4))\n",
    "\n",
    "    plt.imshow(cm_normalized, interpolation='nearest', cmap=plt.cm.Blues)\n",
    "    plt.title(\"Confusion Matrix\")\n",
    "    sns.heatmap(cm, cmap=plt.cm.Blues, annot=True)\n",
    "    plt.tight_layout()\n",
    "\n",
    "    class_list = ['DCM', 'HCM', 'MINF', 'NOR', 'RV']\n",
    "\n",
    "    tick_marks = np.arange(len(class_list))\n",
    "    plt.xticks(tick_marks+0.5, class_list, rotation=45)\n",
    "    plt.yticks(tick_marks+0.5, class_list)\n",
    "    plt.ylabel('True label')\n",
    "    plt.xlabel('Predicted label')\n",
    "    plt.show()\n",
    "\n",
    "    print(classification_report(y_test, y_test_pred, target_names=class_list))\n",
    "\n",
    "    feats = gs.best_estimator_.steps[0][1].k_feature_idx_\n",
    "\n",
    "    feats_2 = np.asanyarray(feats)\n",
    "\n",
    "    print(df.iloc[:, feats_2].columns)\n",
    "    feats_names = df.iloc[:, feats_2].columns\n",
    "\n",
    "    return gs, pipe, feats_names"
   ]
  },
  {
   "cell_type": "code",
   "execution_count": 75,
   "metadata": {},
   "outputs": [],
   "source": [
    "#ED Alone\n",
    "X_train_ED, y_train, X_test_ED, y_test = processing(ED_train_df, y_train, ED_test_df, y_test)\n",
    "\n",
    "#ES Alone\n",
    "\n",
    "X_train_ES, y_train, X_test_ES, y_test = processing(ES_train_df, y_train, ES_test_df, y_test)\n",
    "\n",
    "#Radiomics \n",
    "\n",
    "X_train_rad, y_train, X_test_rad, y_test = processing(rad_train, y_train, rad_test, y_test)\n",
    "\n",
    "#All data\n",
    "\n",
    "X_train_all, y_train, X_test_all, y_test = processing(all_data_train, y_train, all_data_test, y_test)"
   ]
  },
  {
   "cell_type": "markdown",
   "metadata": {},
   "source": [
    "### 3. ML Algorithms\n",
    "\n",
    "Let's test some algorithms with the feature selection techniques"
   ]
  },
  {
   "cell_type": "code",
   "execution_count": 77,
   "metadata": {},
   "outputs": [],
   "source": [
    "#Support Vector Classifier\n",
    "\n",
    "model_SVC = SVC(gamma = 'scale', max_iter= 5000, random_state=42)\n",
    "\n",
    "param_grid_SVC =  {'model__kernel':('linear', 'rbf'), \n",
    "                   'model__C':[0.5, 1, 10]}\n",
    "\n",
    "# param_grid_SVC_nested =  { 'sfs__estimator__kernel': ['linear', 'rbf', 'poly']},\n",
    "#                           {'degree':[1,5,10]},{\n",
    "#                    'sfs__estimator__C':[5]}\n",
    "\n",
    "param_grid_SVC_nested_2 =  { 'selector__estimator__kernel': ['linear', 'rbf'],\n",
    "                   'selector__estimator__C':[15]}\n",
    "\n",
    "param_grid_SVC_test_2 =  { \n",
    "                   'estimator__model__C':[0.5, 1,5,10]}\n",
    "\n",
    "\n",
    "#-------------------------------------------------------\n",
    "\n",
    "#Random Forest \n",
    "\n",
    "# Number of trees in random forest\n",
    "n_estimators = [10, 100,1000]\n",
    "# Number of features to consider at every split\n",
    "max_features = ['auto', 'sqrt']\n",
    "# Maximum number of levels in tree\n",
    "max_depth = [2,4,6,8,10]\n",
    "max_depth.append(None)\n",
    "# Minimum number of samples required to split a node\n",
    "min_samples_split = [2, 5]\n",
    "# Minimum number of samples required at each leaf node\n",
    "min_samples_leaf = [1, 2, 4]\n",
    "# Method of selecting samples for training each tree\n",
    "bootstrap = [True, False]\n",
    "# Create the random grid\n",
    "\n",
    "param_grid_RF = {'n_estimators': n_estimators,\n",
    "               'max_features': max_features,\n",
    "               'max_depth': max_depth,\n",
    "               'min_samples_split': min_samples_split,\n",
    "               'min_samples_leaf': min_samples_leaf,\n",
    "               'bootstrap': bootstrap}\n",
    "\n",
    "param_grid_RF_nested = {'model__n_estimators': n_estimators,\n",
    "               'model__max_features': max_features,\n",
    "               'model__max_depth': max_depth,\n",
    "               'model__min_samples_split': min_samples_split,\n",
    "               'model__min_samples_leaf': min_samples_leaf,\n",
    "               'model__bootstrap': bootstrap}\n",
    "\n",
    "param_grid_RF_2 = {'estimator__n_estimators': n_estimators,\n",
    "               'estimator__bootstrap': bootstrap}\n",
    "\n",
    "model_RF = RandomForestClassifier(random_state=42)\n",
    "\n",
    "#--------------------------------------------------------------\n",
    "\n",
    "# Logistic Regression\n",
    "\n",
    "param_grid_LR_nested = {'model__penalty': ['l1','l2'], \n",
    "               'model__C': [0.1,1,10,100, 200]}\n",
    "\n",
    "param_grid_LR = {'penalty': ['l1','l2'], \n",
    "               'C': [0.1,1,10,100, 200]}\n",
    "\n",
    "model_LR = LogisticRegression( multi_class='auto', random_state=42)\n",
    "\n",
    "#-------------------------------------------------------------------"
   ]
  },
  {
   "cell_type": "markdown",
   "metadata": {},
   "source": [
    "### 4. Training and Testing on ACDC Challenge"
   ]
  },
  {
   "cell_type": "code",
   "execution_count": 37,
   "metadata": {},
   "outputs": [
    {
     "name": "stdout",
     "output_type": "stream",
     "text": [
      "dict_keys(['memory', 'steps', 'verbose', 'sfs', 'model', 'sfs__clone_estimator', 'sfs__cv', 'sfs__estimator__C', 'sfs__estimator__cache_size', 'sfs__estimator__class_weight', 'sfs__estimator__coef0', 'sfs__estimator__decision_function_shape', 'sfs__estimator__degree', 'sfs__estimator__gamma', 'sfs__estimator__kernel', 'sfs__estimator__max_iter', 'sfs__estimator__probability', 'sfs__estimator__random_state', 'sfs__estimator__shrinking', 'sfs__estimator__tol', 'sfs__estimator__verbose', 'sfs__estimator', 'sfs__fixed_features', 'sfs__floating', 'sfs__forward', 'sfs__k_features', 'sfs__n_jobs', 'sfs__pre_dispatch', 'sfs__scoring', 'sfs__verbose', 'sfs__svc', 'sfs__svc__C', 'sfs__svc__cache_size', 'sfs__svc__class_weight', 'sfs__svc__coef0', 'sfs__svc__decision_function_shape', 'sfs__svc__degree', 'sfs__svc__gamma', 'sfs__svc__kernel', 'sfs__svc__max_iter', 'sfs__svc__probability', 'sfs__svc__random_state', 'sfs__svc__shrinking', 'sfs__svc__tol', 'sfs__svc__verbose', 'model__C', 'model__cache_size', 'model__class_weight', 'model__coef0', 'model__decision_function_shape', 'model__degree', 'model__gamma', 'model__kernel', 'model__max_iter', 'model__probability', 'model__random_state', 'model__shrinking', 'model__tol', 'model__verbose'])\n",
      "Fitting 5 folds for each of 18 candidates, totalling 90 fits\n",
      "[CV] model__C=0.5, model__kernel=linear, sfs__k_features=5 ...........\n"
     ]
    },
    {
     "name": "stderr",
     "output_type": "stream",
     "text": [
      "[Parallel(n_jobs=1)]: Using backend SequentialBackend with 1 concurrent workers.\n"
     ]
    },
    {
     "name": "stdout",
     "output_type": "stream",
     "text": [
      "[CV]  model__C=0.5, model__kernel=linear, sfs__k_features=5, score=0.600, total=  18.8s\n",
      "[CV] model__C=0.5, model__kernel=linear, sfs__k_features=5 ...........\n"
     ]
    },
    {
     "name": "stderr",
     "output_type": "stream",
     "text": [
      "[Parallel(n_jobs=1)]: Done   1 out of   1 | elapsed:   18.7s remaining:    0.0s\n"
     ]
    },
    {
     "name": "stdout",
     "output_type": "stream",
     "text": [
      "[CV]  model__C=0.5, model__kernel=linear, sfs__k_features=5, score=0.650, total=  19.2s\n",
      "[CV] model__C=0.5, model__kernel=linear, sfs__k_features=5 ...........\n"
     ]
    },
    {
     "name": "stderr",
     "output_type": "stream",
     "text": [
      "[Parallel(n_jobs=1)]: Done   2 out of   2 | elapsed:   37.9s remaining:    0.0s\n"
     ]
    },
    {
     "name": "stdout",
     "output_type": "stream",
     "text": [
      "[CV]  model__C=0.5, model__kernel=linear, sfs__k_features=5, score=0.450, total=  21.0s\n",
      "[CV] model__C=0.5, model__kernel=linear, sfs__k_features=5 ...........\n",
      "[CV]  model__C=0.5, model__kernel=linear, sfs__k_features=5, score=0.450, total=  19.0s\n",
      "[CV] model__C=0.5, model__kernel=linear, sfs__k_features=5 ...........\n",
      "[CV]  model__C=0.5, model__kernel=linear, sfs__k_features=5, score=0.400, total=  17.1s\n",
      "[CV] model__C=0.5, model__kernel=linear, sfs__k_features=10 ..........\n",
      "[CV]  model__C=0.5, model__kernel=linear, sfs__k_features=10, score=0.450, total=  35.0s\n",
      "[CV] model__C=0.5, model__kernel=linear, sfs__k_features=10 ..........\n",
      "[CV]  model__C=0.5, model__kernel=linear, sfs__k_features=10, score=0.650, total=  35.8s\n",
      "[CV] model__C=0.5, model__kernel=linear, sfs__k_features=10 ..........\n",
      "[CV]  model__C=0.5, model__kernel=linear, sfs__k_features=10, score=0.450, total=  36.1s\n",
      "[CV] model__C=0.5, model__kernel=linear, sfs__k_features=10 ..........\n",
      "[CV]  model__C=0.5, model__kernel=linear, sfs__k_features=10, score=0.500, total=  35.6s\n",
      "[CV] model__C=0.5, model__kernel=linear, sfs__k_features=10 ..........\n",
      "[CV]  model__C=0.5, model__kernel=linear, sfs__k_features=10, score=0.450, total=  36.1s\n",
      "[CV] model__C=0.5, model__kernel=linear, sfs__k_features=15 ..........\n",
      "[CV]  model__C=0.5, model__kernel=linear, sfs__k_features=15, score=0.500, total=  55.5s\n",
      "[CV] model__C=0.5, model__kernel=linear, sfs__k_features=15 ..........\n",
      "[CV]  model__C=0.5, model__kernel=linear, sfs__k_features=15, score=0.800, total=  54.2s\n",
      "[CV] model__C=0.5, model__kernel=linear, sfs__k_features=15 ..........\n",
      "[CV]  model__C=0.5, model__kernel=linear, sfs__k_features=15, score=0.650, total=  49.7s\n",
      "[CV] model__C=0.5, model__kernel=linear, sfs__k_features=15 ..........\n",
      "[CV]  model__C=0.5, model__kernel=linear, sfs__k_features=15, score=0.700, total=  50.5s\n",
      "[CV] model__C=0.5, model__kernel=linear, sfs__k_features=15 ..........\n",
      "[CV]  model__C=0.5, model__kernel=linear, sfs__k_features=15, score=0.550, total=  58.3s\n",
      "[CV] model__C=0.5, model__kernel=rbf, sfs__k_features=5 ..............\n",
      "[CV]  model__C=0.5, model__kernel=rbf, sfs__k_features=5, score=0.750, total=  17.7s\n",
      "[CV] model__C=0.5, model__kernel=rbf, sfs__k_features=5 ..............\n",
      "[CV]  model__C=0.5, model__kernel=rbf, sfs__k_features=5, score=0.850, total=  16.9s\n",
      "[CV] model__C=0.5, model__kernel=rbf, sfs__k_features=5 ..............\n",
      "[CV]  model__C=0.5, model__kernel=rbf, sfs__k_features=5, score=0.900, total=  16.8s\n",
      "[CV] model__C=0.5, model__kernel=rbf, sfs__k_features=5 ..............\n",
      "[CV]  model__C=0.5, model__kernel=rbf, sfs__k_features=5, score=0.850, total=  16.4s\n",
      "[CV] model__C=0.5, model__kernel=rbf, sfs__k_features=5 ..............\n",
      "[CV]  model__C=0.5, model__kernel=rbf, sfs__k_features=5, score=0.750, total=  16.3s\n",
      "[CV] model__C=0.5, model__kernel=rbf, sfs__k_features=10 .............\n",
      "[CV]  model__C=0.5, model__kernel=rbf, sfs__k_features=10, score=0.700, total=  32.9s\n",
      "[CV] model__C=0.5, model__kernel=rbf, sfs__k_features=10 .............\n",
      "[CV]  model__C=0.5, model__kernel=rbf, sfs__k_features=10, score=0.900, total=  33.0s\n",
      "[CV] model__C=0.5, model__kernel=rbf, sfs__k_features=10 .............\n",
      "[CV]  model__C=0.5, model__kernel=rbf, sfs__k_features=10, score=0.800, total=  33.0s\n",
      "[CV] model__C=0.5, model__kernel=rbf, sfs__k_features=10 .............\n",
      "[CV]  model__C=0.5, model__kernel=rbf, sfs__k_features=10, score=0.750, total=  32.8s\n",
      "[CV] model__C=0.5, model__kernel=rbf, sfs__k_features=10 .............\n",
      "[CV]  model__C=0.5, model__kernel=rbf, sfs__k_features=10, score=0.800, total=  34.4s\n",
      "[CV] model__C=0.5, model__kernel=rbf, sfs__k_features=15 .............\n",
      "[CV]  model__C=0.5, model__kernel=rbf, sfs__k_features=15, score=0.500, total=  54.8s\n",
      "[CV] model__C=0.5, model__kernel=rbf, sfs__k_features=15 .............\n",
      "[CV]  model__C=0.5, model__kernel=rbf, sfs__k_features=15, score=1.000, total=  50.4s\n",
      "[CV] model__C=0.5, model__kernel=rbf, sfs__k_features=15 .............\n",
      "[CV]  model__C=0.5, model__kernel=rbf, sfs__k_features=15, score=0.800, total=  50.4s\n",
      "[CV] model__C=0.5, model__kernel=rbf, sfs__k_features=15 .............\n",
      "[CV]  model__C=0.5, model__kernel=rbf, sfs__k_features=15, score=0.750, total=  50.1s\n",
      "[CV] model__C=0.5, model__kernel=rbf, sfs__k_features=15 .............\n",
      "[CV]  model__C=0.5, model__kernel=rbf, sfs__k_features=15, score=0.800, total=  49.3s\n",
      "[CV] model__C=1, model__kernel=linear, sfs__k_features=5 .............\n",
      "[CV]  model__C=1, model__kernel=linear, sfs__k_features=5, score=0.650, total=  16.1s\n",
      "[CV] model__C=1, model__kernel=linear, sfs__k_features=5 .............\n",
      "[CV]  model__C=1, model__kernel=linear, sfs__k_features=5, score=0.650, total=  16.0s\n",
      "[CV] model__C=1, model__kernel=linear, sfs__k_features=5 .............\n",
      "[CV]  model__C=1, model__kernel=linear, sfs__k_features=5, score=0.650, total=  16.2s\n",
      "[CV] model__C=1, model__kernel=linear, sfs__k_features=5 .............\n",
      "[CV]  model__C=1, model__kernel=linear, sfs__k_features=5, score=0.500, total=  16.1s\n",
      "[CV] model__C=1, model__kernel=linear, sfs__k_features=5 .............\n",
      "[CV]  model__C=1, model__kernel=linear, sfs__k_features=5, score=0.500, total=  16.0s\n",
      "[CV] model__C=1, model__kernel=linear, sfs__k_features=10 ............\n",
      "[CV]  model__C=1, model__kernel=linear, sfs__k_features=10, score=0.650, total=  35.5s\n",
      "[CV] model__C=1, model__kernel=linear, sfs__k_features=10 ............\n",
      "[CV]  model__C=1, model__kernel=linear, sfs__k_features=10, score=0.750, total=  38.7s\n",
      "[CV] model__C=1, model__kernel=linear, sfs__k_features=10 ............\n",
      "[CV]  model__C=1, model__kernel=linear, sfs__k_features=10, score=0.650, total=  33.7s\n",
      "[CV] model__C=1, model__kernel=linear, sfs__k_features=10 ............\n",
      "[CV]  model__C=1, model__kernel=linear, sfs__k_features=10, score=0.650, total=  33.6s\n",
      "[CV] model__C=1, model__kernel=linear, sfs__k_features=10 ............\n",
      "[CV]  model__C=1, model__kernel=linear, sfs__k_features=10, score=0.600, total=  34.6s\n",
      "[CV] model__C=1, model__kernel=linear, sfs__k_features=15 ............\n",
      "[CV]  model__C=1, model__kernel=linear, sfs__k_features=15, score=0.700, total=  50.7s\n",
      "[CV] model__C=1, model__kernel=linear, sfs__k_features=15 ............\n",
      "[CV]  model__C=1, model__kernel=linear, sfs__k_features=15, score=0.950, total=  51.5s\n",
      "[CV] model__C=1, model__kernel=linear, sfs__k_features=15 ............\n",
      "[CV]  model__C=1, model__kernel=linear, sfs__k_features=15, score=0.800, total=  52.7s\n",
      "[CV] model__C=1, model__kernel=linear, sfs__k_features=15 ............\n",
      "[CV]  model__C=1, model__kernel=linear, sfs__k_features=15, score=0.800, total=  52.6s\n",
      "[CV] model__C=1, model__kernel=linear, sfs__k_features=15 ............\n",
      "[CV]  model__C=1, model__kernel=linear, sfs__k_features=15, score=0.650, total=  51.1s\n",
      "[CV] model__C=1, model__kernel=rbf, sfs__k_features=5 ................\n",
      "[CV]  model__C=1, model__kernel=rbf, sfs__k_features=5, score=0.650, total=  17.1s\n",
      "[CV] model__C=1, model__kernel=rbf, sfs__k_features=5 ................\n",
      "[CV]  model__C=1, model__kernel=rbf, sfs__k_features=5, score=0.850, total=  17.7s\n",
      "[CV] model__C=1, model__kernel=rbf, sfs__k_features=5 ................\n",
      "[CV]  model__C=1, model__kernel=rbf, sfs__k_features=5, score=0.900, total=  17.7s\n",
      "[CV] model__C=1, model__kernel=rbf, sfs__k_features=5 ................\n",
      "[CV]  model__C=1, model__kernel=rbf, sfs__k_features=5, score=0.850, total=  16.8s\n",
      "[CV] model__C=1, model__kernel=rbf, sfs__k_features=5 ................\n",
      "[CV]  model__C=1, model__kernel=rbf, sfs__k_features=5, score=0.750, total=  16.5s\n",
      "[CV] model__C=1, model__kernel=rbf, sfs__k_features=10 ...............\n",
      "[CV]  model__C=1, model__kernel=rbf, sfs__k_features=10, score=0.750, total=  34.7s\n",
      "[CV] model__C=1, model__kernel=rbf, sfs__k_features=10 ...............\n",
      "[CV]  model__C=1, model__kernel=rbf, sfs__k_features=10, score=0.900, total=  35.1s\n",
      "[CV] model__C=1, model__kernel=rbf, sfs__k_features=10 ...............\n",
      "[CV]  model__C=1, model__kernel=rbf, sfs__k_features=10, score=0.800, total=  34.6s\n",
      "[CV] model__C=1, model__kernel=rbf, sfs__k_features=10 ...............\n",
      "[CV]  model__C=1, model__kernel=rbf, sfs__k_features=10, score=0.800, total=  39.2s\n",
      "[CV] model__C=1, model__kernel=rbf, sfs__k_features=10 ...............\n",
      "[CV]  model__C=1, model__kernel=rbf, sfs__k_features=10, score=0.800, total=  48.2s\n",
      "[CV] model__C=1, model__kernel=rbf, sfs__k_features=15 ...............\n"
     ]
    },
    {
     "name": "stdout",
     "output_type": "stream",
     "text": [
      "[CV]  model__C=1, model__kernel=rbf, sfs__k_features=15, score=0.650, total=  59.9s\n",
      "[CV] model__C=1, model__kernel=rbf, sfs__k_features=15 ...............\n",
      "[CV]  model__C=1, model__kernel=rbf, sfs__k_features=15, score=1.000, total=  56.9s\n",
      "[CV] model__C=1, model__kernel=rbf, sfs__k_features=15 ...............\n",
      "[CV]  model__C=1, model__kernel=rbf, sfs__k_features=15, score=0.800, total=  54.6s\n",
      "[CV] model__C=1, model__kernel=rbf, sfs__k_features=15 ...............\n",
      "[CV]  model__C=1, model__kernel=rbf, sfs__k_features=15, score=0.850, total=  54.1s\n",
      "[CV] model__C=1, model__kernel=rbf, sfs__k_features=15 ...............\n",
      "[CV]  model__C=1, model__kernel=rbf, sfs__k_features=15, score=0.700, total=  54.5s\n",
      "[CV] model__C=10, model__kernel=linear, sfs__k_features=5 ............\n",
      "[CV]  model__C=10, model__kernel=linear, sfs__k_features=5, score=0.750, total=  17.7s\n",
      "[CV] model__C=10, model__kernel=linear, sfs__k_features=5 ............\n",
      "[CV]  model__C=10, model__kernel=linear, sfs__k_features=5, score=0.850, total=  18.1s\n",
      "[CV] model__C=10, model__kernel=linear, sfs__k_features=5 ............\n",
      "[CV]  model__C=10, model__kernel=linear, sfs__k_features=5, score=0.900, total=  20.1s\n",
      "[CV] model__C=10, model__kernel=linear, sfs__k_features=5 ............\n",
      "[CV]  model__C=10, model__kernel=linear, sfs__k_features=5, score=0.750, total=  19.2s\n",
      "[CV] model__C=10, model__kernel=linear, sfs__k_features=5 ............\n",
      "[CV]  model__C=10, model__kernel=linear, sfs__k_features=5, score=0.800, total=  17.9s\n",
      "[CV] model__C=10, model__kernel=linear, sfs__k_features=10 ...........\n",
      "[CV]  model__C=10, model__kernel=linear, sfs__k_features=10, score=0.600, total=  36.9s\n",
      "[CV] model__C=10, model__kernel=linear, sfs__k_features=10 ...........\n",
      "[CV]  model__C=10, model__kernel=linear, sfs__k_features=10, score=0.800, total=  36.7s\n",
      "[CV] model__C=10, model__kernel=linear, sfs__k_features=10 ...........\n",
      "[CV]  model__C=10, model__kernel=linear, sfs__k_features=10, score=0.950, total=  36.8s\n",
      "[CV] model__C=10, model__kernel=linear, sfs__k_features=10 ...........\n",
      "[CV]  model__C=10, model__kernel=linear, sfs__k_features=10, score=0.800, total=  35.2s\n",
      "[CV] model__C=10, model__kernel=linear, sfs__k_features=10 ...........\n",
      "[CV]  model__C=10, model__kernel=linear, sfs__k_features=10, score=0.800, total=  35.8s\n",
      "[CV] model__C=10, model__kernel=linear, sfs__k_features=15 ...........\n",
      "[CV]  model__C=10, model__kernel=linear, sfs__k_features=15, score=0.600, total=  55.0s\n",
      "[CV] model__C=10, model__kernel=linear, sfs__k_features=15 ...........\n",
      "[CV]  model__C=10, model__kernel=linear, sfs__k_features=15, score=0.950, total=  54.4s\n",
      "[CV] model__C=10, model__kernel=linear, sfs__k_features=15 ...........\n",
      "[CV]  model__C=10, model__kernel=linear, sfs__k_features=15, score=0.900, total=  54.1s\n",
      "[CV] model__C=10, model__kernel=linear, sfs__k_features=15 ...........\n",
      "[CV]  model__C=10, model__kernel=linear, sfs__k_features=15, score=0.800, total=  53.6s\n",
      "[CV] model__C=10, model__kernel=linear, sfs__k_features=15 ...........\n",
      "[CV]  model__C=10, model__kernel=linear, sfs__k_features=15, score=0.850, total=  53.8s\n",
      "[CV] model__C=10, model__kernel=rbf, sfs__k_features=5 ...............\n",
      "[CV]  model__C=10, model__kernel=rbf, sfs__k_features=5, score=0.650, total=  19.3s\n",
      "[CV] model__C=10, model__kernel=rbf, sfs__k_features=5 ...............\n",
      "[CV]  model__C=10, model__kernel=rbf, sfs__k_features=5, score=0.850, total=  17.6s\n",
      "[CV] model__C=10, model__kernel=rbf, sfs__k_features=5 ...............\n",
      "[CV]  model__C=10, model__kernel=rbf, sfs__k_features=5, score=0.850, total=  17.4s\n",
      "[CV] model__C=10, model__kernel=rbf, sfs__k_features=5 ...............\n",
      "[CV]  model__C=10, model__kernel=rbf, sfs__k_features=5, score=0.900, total=  17.2s\n",
      "[CV] model__C=10, model__kernel=rbf, sfs__k_features=5 ...............\n",
      "[CV]  model__C=10, model__kernel=rbf, sfs__k_features=5, score=0.800, total=  17.3s\n",
      "[CV] model__C=10, model__kernel=rbf, sfs__k_features=10 ..............\n",
      "[CV]  model__C=10, model__kernel=rbf, sfs__k_features=10, score=0.650, total=  36.9s\n",
      "[CV] model__C=10, model__kernel=rbf, sfs__k_features=10 ..............\n",
      "[CV]  model__C=10, model__kernel=rbf, sfs__k_features=10, score=0.850, total=  35.5s\n",
      "[CV] model__C=10, model__kernel=rbf, sfs__k_features=10 ..............\n",
      "[CV]  model__C=10, model__kernel=rbf, sfs__k_features=10, score=0.950, total=  35.3s\n",
      "[CV] model__C=10, model__kernel=rbf, sfs__k_features=10 ..............\n",
      "[CV]  model__C=10, model__kernel=rbf, sfs__k_features=10, score=0.850, total=  36.1s\n",
      "[CV] model__C=10, model__kernel=rbf, sfs__k_features=10 ..............\n",
      "[CV]  model__C=10, model__kernel=rbf, sfs__k_features=10, score=0.750, total=  35.4s\n",
      "[CV] model__C=10, model__kernel=rbf, sfs__k_features=15 ..............\n",
      "[CV]  model__C=10, model__kernel=rbf, sfs__k_features=15, score=0.550, total= 1.0min\n",
      "[CV] model__C=10, model__kernel=rbf, sfs__k_features=15 ..............\n",
      "[CV]  model__C=10, model__kernel=rbf, sfs__k_features=15, score=0.850, total=  54.3s\n",
      "[CV] model__C=10, model__kernel=rbf, sfs__k_features=15 ..............\n",
      "[CV]  model__C=10, model__kernel=rbf, sfs__k_features=15, score=0.850, total=  56.2s\n",
      "[CV] model__C=10, model__kernel=rbf, sfs__k_features=15 ..............\n",
      "[CV]  model__C=10, model__kernel=rbf, sfs__k_features=15, score=0.800, total=  54.6s\n",
      "[CV] model__C=10, model__kernel=rbf, sfs__k_features=15 ..............\n",
      "[CV]  model__C=10, model__kernel=rbf, sfs__k_features=15, score=0.750, total=  55.5s\n"
     ]
    },
    {
     "name": "stderr",
     "output_type": "stream",
     "text": [
      "[Parallel(n_jobs=1)]: Done  90 out of  90 | elapsed: 53.6min finished\n"
     ]
    },
    {
     "name": "stdout",
     "output_type": "stream",
     "text": [
      "Best Model {'model__C': 0.5, 'model__kernel': 'rbf', 'sfs__k_features': 5}\n",
      "\n",
      " Test Accuracy with best estimator:  0.72\n"
     ]
    },
    {
     "data": {
      "image/png": "[encoded data removed]",
      "text/plain": [
       "<Figure size 576x288 with 2 Axes>"
      ]
     },
     "metadata": {
      "needs_background": "light"
     },
     "output_type": "display_data"
    },
    {
     "name": "stdout",
     "output_type": "stream",
     "text": [
      "              precision    recall  f1-score   support\n",
      "\n",
      "         DCM       0.67      0.60      0.63        10\n",
      "         HCM       0.83      0.50      0.62        10\n",
      "        MINF       0.64      0.70      0.67        10\n",
      "         NOR       0.73      0.80      0.76        10\n",
      "          RV       0.77      1.00      0.87        10\n",
      "\n",
      "    accuracy                           0.72        50\n",
      "   macro avg       0.73      0.72      0.71        50\n",
      "weighted avg       0.73      0.72      0.71        50\n",
      "\n",
      "Index(['original_ngtdm_Busyness_LV_ED',\n",
      "       'original_glrlm_LongRunLowGrayLevelEmphasis_MYO_ED',\n",
      "       'original_glrlm_GrayLevelNonUniformity_LV_ES',\n",
      "       'original_shape_MeshVolume_RV_ES', 'original_shape_MeshVolume_MYO_ES'],\n",
      "      dtype='object')\n"
     ]
    }
   ],
   "source": [
    "#gs, pipe = SFS_GS(X_train, y_train, X_test, y_test, model_SVC, param_grid_SVC)"
   ]
  },
  {
   "cell_type": "markdown",
   "metadata": {},
   "source": [
    "[Not Final Results]"
   ]
  }
 ],
 "metadata": {
  "kernelspec": {
   "display_name": "Python 3",
   "language": "python",
   "name": "python3"
  },
  "language_info": {
   "codemirror_mode": {
    "name": "ipython",
    "version": 3
   },
   "file_extension": ".py",
   "mimetype": "text/x-python",
   "name": "python",
   "nbconvert_exporter": "python",
   "pygments_lexer": "ipython3",
   "version": "3.7.4"
  }
 },
 "nbformat": 4,
 "nbformat_minor": 2
}
