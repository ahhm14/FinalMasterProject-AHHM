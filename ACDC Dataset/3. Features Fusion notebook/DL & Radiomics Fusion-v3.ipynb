{
 "cells": [
  {
   "cell_type": "markdown",
   "metadata": {},
   "source": [
    "### Fusion of Features\n",
    "\n",
    "In this notebook we will develop the pipeline for the fusion of extracted radiomics and deeply learnt features using the ACDC dataset. \n",
    "\n",
    "We will retake the pipeline used for the Radiomics supervised learning section of the project, but now we will add the deeply learnt features preprocessing and combination with radiomics. \n",
    "\n",
    "We will study predictive performance, feature selection and accuracy metrics either indidividually and combined."
   ]
  },
  {
   "cell_type": "code",
   "execution_count": 1,
   "metadata": {},
   "outputs": [],
   "source": [
    "### import the packages and libraries\n",
    "import pandas as pd\n",
    "import matplotlib.pyplot as plt\n",
    "import numpy as np\n",
    "from sklearn.model_selection import train_test_split, StratifiedKFold, cross_val_score\n",
    "from sklearn.preprocessing import LabelEncoder, MinMaxScaler\n",
    "from sklearn.metrics import f1_score, accuracy_score, confusion_matrix, classification_report, precision_score\n",
    "from sklearn.svm import LinearSVC, SVC\n",
    "from sklearn.feature_selection import SelectKBest, f_classif, chi2, RFECV, RFE\n",
    "from sklearn.model_selection import GridSearchCV\n",
    "from mlxtend.feature_selection import SequentialFeatureSelector as SFS\n",
    "from mlxtend.plotting import plot_sequential_feature_selection as plot_sfs\n",
    "from sklearn.pipeline import Pipeline\n",
    "from skopt import BayesSearchCV\n",
    "from skopt.space import Real, Integer\n",
    "import pickle"
   ]
  },
  {
   "cell_type": "markdown",
   "metadata": {},
   "source": [
    "### 1. Data Loading"
   ]
  },
  {
   "cell_type": "code",
   "execution_count": 2,
   "metadata": {},
   "outputs": [
    {
     "name": "stdout",
     "output_type": "stream",
     "text": [
      "(100, 777)\n",
      "(50, 777)\n"
     ]
    }
   ],
   "source": [
    "###Radiomics\n",
    "\n",
    "RF_df_train = pd.read_csv(r'C:\\Users\\alex1\\Desktop\\ACDC\\Extracted_radiomics\\ACDC_(Radiomics+Clinical)_Training.csv')\n",
    "print(RF_df_train.shape)\n",
    "RF_df_test = pd.read_csv(r'C:\\Users\\alex1\\Desktop\\ACDC\\Extracted_radiomics\\ACDC_(Radiomics+Clinical)_Testing.csv')\n",
    "print(RF_df_test.shape)"
   ]
  },
  {
   "cell_type": "code",
   "execution_count": 3,
   "metadata": {},
   "outputs": [
    {
     "name": "stdout",
     "output_type": "stream",
     "text": [
      "(100, 645)\n",
      "(50, 645)\n"
     ]
    }
   ],
   "source": [
    "RF_df_train = RF_df_train.loc[:,~ RF_df_train.columns.str.startswith('diagnostics')]\n",
    "RF_df_test = RF_df_test.loc[:,~ RF_df_test.columns.str.startswith('diagnostics')]\n",
    "print(RF_df_train.shape)\n",
    "print(RF_df_test.shape)"
   ]
  },
  {
   "cell_type": "markdown",
   "metadata": {},
   "source": [
    "Also, we separate the medical inputs and separate the independent variable (disease)"
   ]
  },
  {
   "cell_type": "code",
   "execution_count": 4,
   "metadata": {},
   "outputs": [],
   "source": [
    "radiomics_train = RF_df_train.iloc[:,:-3]\n",
    "med_info_train = RF_df_train.iloc[:,-3:-1]\n",
    "y_train = RF_df_train.iloc[:,-1]"
   ]
  },
  {
   "cell_type": "code",
   "execution_count": 5,
   "metadata": {},
   "outputs": [
    {
     "data": {
      "text/plain": [
       "(100,)"
      ]
     },
     "execution_count": 5,
     "metadata": {},
     "output_type": "execute_result"
    }
   ],
   "source": [
    "y_train.shape"
   ]
  },
  {
   "cell_type": "code",
   "execution_count": 6,
   "metadata": {},
   "outputs": [],
   "source": [
    "radiomics_test = RF_df_test.iloc[:,:-3]\n",
    "med_info_test = RF_df_test.iloc[:,-3:-1]\n",
    "y_test = RF_df_test.iloc[:,-1]"
   ]
  },
  {
   "cell_type": "code",
   "execution_count": 7,
   "metadata": {},
   "outputs": [
    {
     "data": {
      "text/plain": [
       "(50,)"
      ]
     },
     "execution_count": 7,
     "metadata": {},
     "output_type": "execute_result"
    }
   ],
   "source": [
    "y_test.shape"
   ]
  },
  {
   "cell_type": "markdown",
   "metadata": {},
   "source": [
    "#### Deeply Learned Features\n",
    "\n",
    "We load the Feeply Learned Features from their respective model to later be concatenated with the Radiomics and Medical Info"
   ]
  },
  {
   "cell_type": "code",
   "execution_count": 8,
   "metadata": {},
   "outputs": [],
   "source": [
    "\n",
    "### Inception\n",
    "\n",
    "path = r'Extracted_Features'\n",
    "\n",
    "incep_DF_train_ED = pd.read_csv(path+'\\Extracted_Features_IncepModel_train_ED.csv', header=None)\n",
    "incep_DF_train_ES = pd.read_csv(path+'\\Extracted_Features_IncepModel_train_ES.csv', header=None)\n",
    "incep_DF_test_ED = pd.read_csv(path+'\\Extracted_Features_IncepModel_test_ED.csv', header=None)\n",
    "incep_DF_test_ES = pd.read_csv(path+'\\Extracted_Features_IncepModel_test_ES.csv', header=None)"
   ]
  },
  {
   "cell_type": "code",
   "execution_count": 9,
   "metadata": {},
   "outputs": [],
   "source": [
    "AlexNet_DF_train_ED = pd.read_csv(path+'\\Extracted_Features_AlexNet_train_ED.csv', header=None)\n",
    "AlexNet_DF_train_ES = pd.read_csv(path+'\\Extracted_Features_AlexNet_train_ES.csv', header=None)\n",
    "AlexNet_DF_test_ED = pd.read_csv(path+'\\Extracted_Features_AlexNet_test_ED.csv', header=None)\n",
    "AlexNet_DF_test_ES = pd.read_csv(path+'\\Extracted_Features_AlexNet_test_ES.csv', header=None)"
   ]
  },
  {
   "cell_type": "code",
   "execution_count": 10,
   "metadata": {},
   "outputs": [],
   "source": [
    "AlexNetdil_DF_train_ED = pd.read_csv(path+'\\Extracted_Features_AlexNetDil_train_ED.csv', header=None)\n",
    "AlexNetdil_DF_train_ES = pd.read_csv(path+'\\Extracted_Features_AlexNetDil_train_ES.csv', header=None)\n",
    "AlexNetdil_DF_test_ED = pd.read_csv(path+'\\Extracted_Features_AlexNetDil_test_ED.csv', header=None)\n",
    "AlexNetdil_DF_test_ES = pd.read_csv(path+'\\Extracted_Features_AlexNetDil_test_ES.csv', header=None)"
   ]
  },
  {
   "cell_type": "code",
   "execution_count": 11,
   "metadata": {},
   "outputs": [],
   "source": [
    "###################### We leave this out for the moments ############################\n",
    "#VGG_DF_train = pd.read_csv(path+'\\VGG_Extracted_Features_train.csv', header=None) ##\n",
    "#VGG_DF_test = pd.read_csv(path+'\\VGG_Extracted_Features_test.csv', header=None)   ##\n",
    "####################################################################################"
   ]
  },
  {
   "cell_type": "code",
   "execution_count": 12,
   "metadata": {},
   "outputs": [],
   "source": [
    "#Late Merging Model\n",
    "LM_DF_train = pd.read_csv(path+'\\LM_features_train.csv', header=None)\n",
    "LM_DF_test_ES = pd.read_csv(path+'\\LM_features_test_ES.csv', header=None)\n",
    "LM_DF_test_ED = pd.read_csv(path+'\\LM_features_test_ES.csv', header=None)"
   ]
  },
  {
   "cell_type": "code",
   "execution_count": 13,
   "metadata": {},
   "outputs": [
    {
     "data": {
      "text/plain": [
       "(600, 256)"
      ]
     },
     "execution_count": 13,
     "metadata": {},
     "output_type": "execute_result"
    }
   ],
   "source": [
    "LM_DF_train.shape"
   ]
  },
  {
   "cell_type": "code",
   "execution_count": 14,
   "metadata": {},
   "outputs": [
    {
     "data": {
      "text/plain": [
       "(600, 256)"
      ]
     },
     "execution_count": 14,
     "metadata": {},
     "output_type": "execute_result"
    }
   ],
   "source": [
    "np_LM_train=np.asanyarray(LM_DF_train)\n",
    "np_LM_train.shape"
   ]
  },
  {
   "cell_type": "code",
   "execution_count": 15,
   "metadata": {},
   "outputs": [],
   "source": [
    "def divide_LM_train():\n",
    "    ED_list = list()\n",
    "    ES_list = list()\n",
    "    \n",
    "    for i in np.arange(1,600,3):\n",
    "        if (i % 2) == 0:\n",
    "            ES_list.append(np_LM_train[i,:])\n",
    "        else:\n",
    "            ED_list.append(np_LM_train[i,:])\n",
    "         \n",
    "    ES = np.asanyarray(ES_list)\n",
    "    ED = np.asanyarray(ED_list)\n",
    "\n",
    "    return ES, ED "
   ]
  },
  {
   "cell_type": "code",
   "execution_count": 16,
   "metadata": {},
   "outputs": [],
   "source": [
    "ES, ED = divide_LM_train()"
   ]
  },
  {
   "cell_type": "code",
   "execution_count": 17,
   "metadata": {},
   "outputs": [],
   "source": [
    "LM_train_ES = pd.DataFrame(ES)\n",
    "LM_train_ED = pd.DataFrame(ED)"
   ]
  },
  {
   "cell_type": "code",
   "execution_count": 18,
   "metadata": {},
   "outputs": [
    {
     "data": {
      "text/plain": [
       "(50, 256)"
      ]
     },
     "execution_count": 18,
     "metadata": {},
     "output_type": "execute_result"
    }
   ],
   "source": [
    "LM_DF_test_ES.shape"
   ]
  },
  {
   "cell_type": "code",
   "execution_count": 1,
   "metadata": {},
   "outputs": [],
   "source": [
    "def col_names(df, cycle):\n",
    "    '''Function to add names to the deeply learned features\n",
    "    to later be identified'''\n",
    "    col_names= ['{}_dlf_{}'.format(cycle, x) for x in range(len(df.columns))]\n",
    "    df.columns = col_names\n",
    "    \n",
    "    return df    "
   ]
  },
  {
   "cell_type": "code",
   "execution_count": 20,
   "metadata": {},
   "outputs": [],
   "source": [
    "#### Creation of datasets\n",
    "incep_DF_train_ED = col_names(incep_DF_train_ED, cycle='ED')\n",
    "incep_DF_train_ES = col_names(incep_DF_train_ES, cycle='ES')\n",
    "\n",
    "incep_DF_train = pd.concat([incep_DF_train_ED, incep_DF_train_ES], axis= 1)\n",
    "incep_train_tot = pd.concat([incep_DF_train, med_info_train], axis=1)\n",
    "\n",
    "incep_DF_test_ED = col_names(incep_DF_test_ED , cycle='ED')\n",
    "incep_DF_test_ES = col_names(incep_DF_test_ES, cycle='ES')\n",
    "\n",
    "incep_DF_test = pd.concat([incep_DF_test_ED, incep_DF_test_ES], axis= 1)\n",
    "incep_test_tot = pd.concat([incep_DF_test, med_info_test], axis=1)"
   ]
  },
  {
   "cell_type": "code",
   "execution_count": 21,
   "metadata": {},
   "outputs": [],
   "source": [
    "AlexNet_DF_train_ED = col_names(AlexNet_DF_train_ED, cycle='ED')\n",
    "AlexNet_DF_train_ES = col_names(AlexNet_DF_train_ES, cycle= 'ES')\n",
    "\n",
    "AlexNet_DF_train = pd.concat([AlexNet_DF_train_ED, AlexNet_DF_train_ES], axis= 1)\n",
    "AlexNet_train_tot = pd.concat([AlexNet_DF_train, med_info_train], axis = 1)\n",
    "\n",
    "AlexNet_DF_test_ED = col_names(AlexNet_DF_test_ED, cycle='ED')\n",
    "AlexNet_DF_test_ES = col_names(AlexNet_DF_test_ES, cycle='ES')\n",
    "\n",
    "AlexNet_DF_test = pd.concat([AlexNet_DF_test_ED, AlexNet_DF_test_ES], axis= 1)\n",
    "AlexNet_test_tot = pd.concat([AlexNet_DF_test, med_info_test], axis = 1)"
   ]
  },
  {
   "cell_type": "code",
   "execution_count": 22,
   "metadata": {},
   "outputs": [],
   "source": [
    "AlexNetdil_DF_train_ED = col_names(AlexNetdil_DF_train_ED, cycle='ED')\n",
    "AlexNetdil_DF_train_ES = col_names(AlexNetdil_DF_train_ES, cycle= 'ES')\n",
    "\n",
    "AlexNetdil_DF_train = pd.concat([AlexNetdil_DF_train_ED, AlexNetdil_DF_train_ES], axis= 1)\n",
    "AlexNetdil_DF_train_tot = pd.concat([AlexNet_DF_train, med_info_train], axis= 1)\n",
    "\n",
    "AlexNetdil_DF_test_ED = col_names(AlexNetdil_DF_test_ED, cycle='ED')\n",
    "AlexNetdil_DF_test_ES = col_names(AlexNetdil_DF_test_ES, cycle='ES')\n",
    "\n",
    "AlexNetdil_DF_test = pd.concat([AlexNetdil_DF_test_ED, AlexNetdil_DF_test_ES], axis= 1)\n",
    "AlexNetdil_DF_test_tot = pd.concat([AlexNet_DF_test, med_info_test], axis= 1)"
   ]
  },
  {
   "cell_type": "code",
   "execution_count": 23,
   "metadata": {},
   "outputs": [],
   "source": [
    "LM_train_ED = col_names(LM_train_ED, cycle='ED')\n",
    "LM_train_ES = col_names(LM_train_ES, cycle='ES')\n",
    "\n",
    "LM_train = pd.concat([LM_train_ED, LM_train_ES], axis=1)\n",
    "LM_train_tot = pd.concat([LM_train, med_info_train], axis=1)\n",
    "\n",
    "LM_DF_test_ED = col_names(LM_DF_test_ED, cycle='ED')\n",
    "LM_DF_test_ES = col_names(LM_DF_test_ES, cycle='ES')\n",
    "\n",
    "LM_test = pd.concat([LM_DF_test_ED, LM_DF_test_ES], axis=1)\n",
    "LM_test_tot = pd.concat([LM_test, med_info_test], axis=1)"
   ]
  },
  {
   "cell_type": "code",
   "execution_count": 24,
   "metadata": {},
   "outputs": [],
   "source": [
    "VGG_DF_train = col_names(VGG_DF_train)\n",
    "VGG_DF_test = col_names(VGG_DF_test)"
   ]
  },
  {
   "cell_type": "markdown",
   "metadata": {},
   "source": [
    "### 2. Fusion of Features and data processing"
   ]
  },
  {
   "cell_type": "markdown",
   "metadata": {},
   "source": [
    "In this section we combine both data modalities in a single data frame. Also, we will be performing the necessary scale for the dataset"
   ]
  },
  {
   "cell_type": "code",
   "execution_count": 25,
   "metadata": {},
   "outputs": [],
   "source": [
    "class testing_model:\n",
    "    def __init__(self, data1, data2, data3, data4):\n",
    "        self.train1 = data1\n",
    "        self.train2 = data2\n",
    "        self.test1 = data3\n",
    "        self.test2 = data4\n",
    "        \n",
    "    def concatenate(self):\n",
    "        X_train = pd.concat([self.train1, self.train2], axis=1)\n",
    "        X_test = pd.concat([self.test1, self.test2], axis = 1)\n",
    "        \n",
    "        return X_train, X_test"
   ]
  },
  {
   "cell_type": "code",
   "execution_count": 27,
   "metadata": {},
   "outputs": [],
   "source": [
    "def processing(X_train,y_train, X_test, y_test):\n",
    "    #tools scaling and labelling\n",
    "    scaler = MinMaxScaler()\n",
    "    encoder = LabelEncoder()\n",
    "    \n",
    "    X_train = scaler.fit_transform(X_train)\n",
    "    X_test = scaler.transform(X_test)\n",
    "    \n",
    "    y_train = encoder.fit_transform(y_train)\n",
    "    y_test = encoder.fit_transform(y_test)\n",
    "    \n",
    "    return X_train, y_train, X_test, y_test"
   ]
  },
  {
   "cell_type": "markdown",
   "metadata": {},
   "source": [
    "### 3. Machine Learning"
   ]
  },
  {
   "cell_type": "markdown",
   "metadata": {},
   "source": [
    "- prueba 1 = Radiomics + ED\n",
    "- prueba 2 = Radiomics + ES\n",
    "- prueba 3 = Radiomics + ES + ED\n",
    "- prubea 4 = Radiomics + ES + ED + Med"
   ]
  },
  {
   "cell_type": "markdown",
   "metadata": {},
   "source": [
    "#### Grid Search K-Best"
   ]
  },
  {
   "cell_type": "code",
   "execution_count": 29,
   "metadata": {},
   "outputs": [],
   "source": [
    "def KBest_GS(X_train, y_train, X_test, y_test, model, param_grid, df):\n",
    "    \n",
    "    featss =np.arange(3,X_train.shape[1],1)\n",
    "    \n",
    "    selector = SelectKBest()\n",
    "    \n",
    "    ### Pipeline\n",
    "    \n",
    "    ### we would need to adapt the \"NUMBER OF FEATURES PARAMETER OF THE GRID\"\n",
    "    \n",
    "    pipe = Pipeline([('selector', selector), \n",
    "                 ('model', model)])\n",
    "    \n",
    "    dict_1 = {'selector__score_func': [f_classif],\n",
    "              'selector__k':featss}   #### para pruebas\n",
    "    \n",
    "    dict_1.update(param_grid)\n",
    "    \n",
    "    gs = GridSearchCV(estimator=pipe, \n",
    "                  param_grid=dict_1, \n",
    "                  scoring='accuracy', \n",
    "                  n_jobs=1, \n",
    "                  cv=StratifiedKFold(2, shuffle=True, random_state=42),\n",
    "                  iid=True,\n",
    "                  refit=True,\n",
    "                verbose=0)\n",
    "    \n",
    "    print(pipe.get_params().keys())\n",
    "    \n",
    "    gs = gs.fit(X_train, y_train)\n",
    "    \n",
    "    print(\"Best Model\", gs.best_params_)\n",
    "    \n",
    "    print('Best score:', gs.best_score_)\n",
    "    \n",
    "    y_test_pred = gs.predict(X_test)\n",
    "    \n",
    "    test_acc = accuracy_score(y_test,y_test_pred)\n",
    "    \n",
    "    print(\"\\n Test Accuracy with best estimator: \", test_acc)\n",
    "    \n",
    "    cm = confusion_matrix(y_test, y_test_pred)\n",
    "        \n",
    "    cm_normalized = cm.astype('float') / cm.sum(axis=1)[:, np.newaxis]\n",
    "    \n",
    "    plt.figure(figsize=(8,4))\n",
    "    \n",
    "    plt.imshow(cm_normalized, interpolation='nearest', cmap=plt.cm.Blues)\n",
    "    plt.title(\"Confusion Matrix\")\n",
    "    plt.colorbar()\n",
    "    plt.tight_layout()\n",
    "\n",
    "    class_list = ['DCM', 'HCM', 'MINF', 'NOR', 'RV']\n",
    "\n",
    "    tick_marks = np.arange(len(class_list))\n",
    "    plt.xticks(tick_marks, class_list, rotation=45)\n",
    "    plt.yticks(tick_marks, class_list)\n",
    "    plt.ylabel('True label')\n",
    "    plt.xlabel('Predicted label')\n",
    "    plt.show()\n",
    "\n",
    "    print(classification_report(y_test, y_test_pred,target_names=class_list))\n",
    "    \n",
    "    cols = gs.best_estimator_.steps[0][1].get_support(indices=True)\n",
    "    print(df.iloc[:,cols].columns)\n",
    "    \n",
    "    \n",
    "    return gs\n",
    "    "
   ]
  },
  {
   "cell_type": "markdown",
   "metadata": {},
   "source": [
    "--- \n",
    "#### Grid Search Sequential Forward Elimination"
   ]
  },
  {
   "cell_type": "code",
   "execution_count": 55,
   "metadata": {},
   "outputs": [],
   "source": [
    "def SFS_GS(X_train, y_train, X_test, y_test, model, param_grid, df):\n",
    "    \n",
    "    #Setting up the SFS\n",
    "    sfs1 = SFS(estimator=model, \n",
    "           k_features=X_train.shape[1],\n",
    "           forward=True, \n",
    "           floating=False, \n",
    "           scoring='accuracy',\n",
    "           cv=StratifiedKFold(4, shuffle=True, random_state=42))\n",
    "    \n",
    "    ### Pipeline\n",
    "    \n",
    "    ### we would need to adapt the \"NUMBER OF FEATURES PARAMETER OF THE GRID\"\n",
    "    \n",
    "    pipe = Pipeline([('sfs', sfs1), \n",
    "                 ('model', model)])\n",
    "    \n",
    "    #dict_1 = {'sfs__k_features':list(range(1,X_train.shape[1]))}   #### para pruebas\n",
    "    \n",
    "    dict_1 = {'sfs__k_features':[5,6,10,15]}  #pruebas\n",
    "    \n",
    "    dict_1.update(param_grid)\n",
    "    \n",
    "    gs = GridSearchCV(estimator=pipe, \n",
    "                  param_grid=dict_1, \n",
    "                  scoring='accuracy', \n",
    "                  n_jobs=1, \n",
    "                  cv=StratifiedKFold(4, shuffle=True, random_state=42),\n",
    "                  verbose=3,\n",
    "                  refit=True)\n",
    "    \n",
    "#     print(pipe.get_params().keys())\n",
    "    \n",
    "    gs = gs.fit(X_train, y_train)\n",
    "    \n",
    "#     print(gs.best_estimator_.steps)\n",
    "    \n",
    "    print(\"Best Model\", gs.best_params_)\n",
    "    \n",
    "#     print('Best score:', gs.best_score_)\n",
    "    \n",
    "    y_test_pred = gs.predict(X_test)\n",
    "    \n",
    "    test_acc = accuracy_score(y_test,y_test_pred)\n",
    "    \n",
    "    print(\"\\n Test Accuracy with best estimator: \", test_acc)\n",
    "    \n",
    "    cm = confusion_matrix(y_test, y_test_pred)\n",
    "        \n",
    "    cm_normalized = cm.astype('float') / cm.sum(axis=1)[:, np.newaxis]\n",
    "    \n",
    "    plt.figure(figsize=(8,4))\n",
    "    \n",
    "    plt.imshow(cm_normalized, interpolation='nearest', cmap=plt.cm.Blues)\n",
    "    plt.title(\"Confusion Matrix\")\n",
    "    plt.colorbar()\n",
    "    plt.tight_layout()\n",
    "\n",
    "    class_list = ['DCM', 'HCM', 'MINF', 'NOR', 'RV']\n",
    "\n",
    "    tick_marks = np.arange(len(class_list))\n",
    "    plt.xticks(tick_marks, class_list, rotation=45)\n",
    "    plt.yticks(tick_marks, class_list)\n",
    "    plt.ylabel('True label')\n",
    "    plt.xlabel('Predicted label')\n",
    "    plt.show()\n",
    "\n",
    "    print(classification_report(y_test, y_test_pred,target_names=class_list))\n",
    "    \n",
    "    feats = gs.best_estimator_.steps[0][1].k_feature_idx_\n",
    "    \n",
    "    feats_2= np.asanyarray(feats)\n",
    "    \n",
    "    print(df.iloc[:,feats_2].columns)\n",
    "    \n",
    "    return gs, pipe\n",
    "    "
   ]
  },
  {
   "cell_type": "code",
   "execution_count": 52,
   "metadata": {},
   "outputs": [],
   "source": [
    "#Support Vector Classifier\n",
    "\n",
    "model_SVC = SVC(gamma = 'scale', max_iter= 5000, random_state=42)\n",
    "\n",
    "param_grid_SVC =  {'model__C':[5, 10],\n",
    "                   'model__kernel':('linear', 'rbf')\n",
    "                   }\n",
    "\n",
    "param_grid_SVC_nested_2 =  { 'selector__estimator__kernel': ['linear', 'rbf'],\n",
    "                   'selector__estimator__C':[15]}\n",
    "\n",
    "param_grid_SVC_test_2 =  { \n",
    "                   'estimator__model__C':[0.5, 1,5,10]}"
   ]
  },
  {
   "cell_type": "code",
   "execution_count": 82,
   "metadata": {},
   "outputs": [],
   "source": [
    "X_train, y_train = processing(X_train_df, y_train)\n",
    "X_test, y_test = processing(X_test_df, y_test)"
   ]
  },
  {
   "cell_type": "code",
   "execution_count": 83,
   "metadata": {},
   "outputs": [
    {
     "data": {
      "text/plain": [
       "(100, 2690)"
      ]
     },
     "execution_count": 83,
     "metadata": {},
     "output_type": "execute_result"
    }
   ],
   "source": [
    "X_train.shape"
   ]
  },
  {
   "cell_type": "code",
   "execution_count": 19,
   "metadata": {},
   "outputs": [],
   "source": [
    "featss =np.asanyarray(range(1,X_train.shape[1]))"
   ]
  },
  {
   "cell_type": "markdown",
   "metadata": {},
   "source": [
    "--- \n",
    "#### Using the features extracted from the Inception"
   ]
  },
  {
   "cell_type": "code",
   "execution_count": 226,
   "metadata": {},
   "outputs": [],
   "source": [
    "X_train1, X_test1 = testing_model(radiomics_train, incep_DF_train_ED, radiomics_test, incep_DF_test_ED).concatenate()\n",
    "X_train2, X_test2 = testing_model(radiomics_train, incep_DF_train_ES, radiomics_test, incep_DF_test_ES).concatenate()\n",
    "X_train3, X_test3 = testing_model(radiomics_train, incep_DF_train, radiomics_test, incep_DF_test).concatenate()\n",
    "X_train4, X_test4 = testing_model(radiomics_train, incep_train_tot, radiomics_test, incep_test_tot).concatenate()"
   ]
  },
  {
   "cell_type": "code",
   "execution_count": 228,
   "metadata": {},
   "outputs": [],
   "source": [
    "X_train_1, y_train = processing(X_train1, y_train)\n",
    "X_test_1, y_test = processing(X_test1, y_test)"
   ]
  },
  {
   "cell_type": "code",
   "execution_count": 230,
   "metadata": {},
   "outputs": [],
   "source": [
    "X_train_2, y_train = processing(X_train2, y_train)\n",
    "X_test_2, y_test = processing(X_test2, y_test)"
   ]
  },
  {
   "cell_type": "code",
   "execution_count": 232,
   "metadata": {},
   "outputs": [],
   "source": [
    "X_train_3, y_train = processing(X_train3, y_train)\n",
    "X_test_3, y_test = processing(X_test3, y_test)"
   ]
  },
  {
   "cell_type": "code",
   "execution_count": 235,
   "metadata": {},
   "outputs": [],
   "source": [
    "X_train_4, y_train = processing(X_train4, y_train)\n",
    "X_test_4, y_test = processing(X_test4, y_test)"
   ]
  },
  {
   "cell_type": "code",
   "execution_count": 236,
   "metadata": {},
   "outputs": [
    {
     "name": "stdout",
     "output_type": "stream",
     "text": [
      "dict_keys(['memory', 'steps', 'verbose', 'selector', 'model', 'selector__k', 'selector__score_func', 'model__C', 'model__cache_size', 'model__class_weight', 'model__coef0', 'model__decision_function_shape', 'model__degree', 'model__gamma', 'model__kernel', 'model__max_iter', 'model__probability', 'model__random_state', 'model__shrinking', 'model__tol', 'model__verbose'])\n",
      "Best Model {'model__C': 1, 'model__kernel': 'linear', 'selector__k': 141, 'selector__score_func': <function f_classif at 0x0000021DE7E22B88>}\n",
      "Best score: 0.97\n",
      "\n",
      " Test Accuracy with best estimator:  0.82\n"
     ]
    },
    {
     "data": {
      "image/png": "[encoded data removed]",
      "text/plain": [
       "<Figure size 576x288 with 2 Axes>"
      ]
     },
     "metadata": {
      "needs_background": "light"
     },
     "output_type": "display_data"
    },
    {
     "name": "stdout",
     "output_type": "stream",
     "text": [
      "              precision    recall  f1-score   support\n",
      "\n",
      "         DCM       1.00      0.70      0.82        10\n",
      "         HCM       0.73      0.80      0.76        10\n",
      "        MINF       0.64      0.90      0.75        10\n",
      "         NOR       1.00      0.70      0.82        10\n",
      "          RV       0.91      1.00      0.95        10\n",
      "\n",
      "    accuracy                           0.82        50\n",
      "   macro avg       0.86      0.82      0.82        50\n",
      "weighted avg       0.86      0.82      0.82        50\n",
      "\n",
      "Index(['ED_dlf_964', 'ES_dlf_3', 'ES_dlf_42', 'ES_dlf_68', 'ES_dlf_76',\n",
      "       'ES_dlf_84', 'ES_dlf_85', 'ES_dlf_87', 'ES_dlf_88', 'ES_dlf_89',\n",
      "       ...\n",
      "       'ES_dlf_1930', 'ES_dlf_1931', 'ES_dlf_1935', 'ES_dlf_1955',\n",
      "       'ES_dlf_1964', 'ES_dlf_1967', 'ES_dlf_1987', 'ES_dlf_2003',\n",
      "       'ES_dlf_2006', 'ES_dlf_2047'],\n",
      "      dtype='object', length=141)\n"
     ]
    }
   ],
   "source": [
    "gs = KBest_GS(X_train_4, y_train, X_test_4, y_test, model_SVC, param_grid_SVC, X_train4)"
   ]
  },
  {
   "cell_type": "markdown",
   "metadata": {},
   "source": [
    "--- \n",
    "#### Using the features extracted from the AlexNet"
   ]
  },
  {
   "cell_type": "code",
   "execution_count": 36,
   "metadata": {},
   "outputs": [],
   "source": [
    "X_train1, X_test1 = testing_model(radiomics_train, AlexNet_DF_train_ED, radiomics_test, AlexNet_DF_test_ED).concatenate()\n",
    "X_train2, X_test2 = testing_model(radiomics_train, AlexNet_DF_train_ES, radiomics_test, AlexNet_DF_test_ES).concatenate()\n",
    "X_train3, X_test3 = testing_model(radiomics_train, AlexNet_DF_train, radiomics_test, AlexNet_DF_test).concatenate()\n",
    "X_train4, X_test4 = testing_model(radiomics_train, AlexNet_train_tot, radiomics_test, AlexNet_test_tot).concatenate()"
   ]
  },
  {
   "cell_type": "code",
   "execution_count": 37,
   "metadata": {},
   "outputs": [],
   "source": [
    "X_train_1, y_train, X_test_1, y_test = processing(X_train1, y_train, X_test1, y_test)\n"
   ]
  },
  {
   "cell_type": "code",
   "execution_count": 41,
   "metadata": {},
   "outputs": [],
   "source": [
    "X_train_2, y_train, X_test_2, y_test = processing(X_train2, y_train, X_test2, y_test)\n"
   ]
  },
  {
   "cell_type": "code",
   "execution_count": 247,
   "metadata": {},
   "outputs": [],
   "source": [
    "X_train_3, y_train = processing(X_train3, y_train)\n",
    "X_test_3, y_test = processing(X_test3, y_test)"
   ]
  },
  {
   "cell_type": "code",
   "execution_count": 248,
   "metadata": {},
   "outputs": [],
   "source": [
    "X_train_4, y_train = processing(X_train4, y_train)\n",
    "X_test_4, y_test = processing(X_test4, y_test)"
   ]
  },
  {
   "cell_type": "code",
   "execution_count": 249,
   "metadata": {},
   "outputs": [
    {
     "data": {
      "text/plain": [
       "(100, 647)"
      ]
     },
     "execution_count": 249,
     "metadata": {},
     "output_type": "execute_result"
    }
   ],
   "source": [
    "X_train1.shape"
   ]
  },
  {
   "cell_type": "code",
   "execution_count": 57,
   "metadata": {
    "scrolled": false
   },
   "outputs": [
    {
     "name": "stdout",
     "output_type": "stream",
     "text": [
      "Fitting 4 folds for each of 16 candidates, totalling 64 fits\n",
      "[CV] model__C=5, model__kernel=linear, sfs__k_features=5 .............\n"
     ]
    },
    {
     "name": "stderr",
     "output_type": "stream",
     "text": [
      "[Parallel(n_jobs=1)]: Using backend SequentialBackend with 1 concurrent workers.\n"
     ]
    },
    {
     "name": "stdout",
     "output_type": "stream",
     "text": [
      "[CV]  model__C=5, model__kernel=linear, sfs__k_features=5, score=0.920, total=  14.5s\n",
      "[CV] model__C=5, model__kernel=linear, sfs__k_features=5 .............\n"
     ]
    },
    {
     "name": "stderr",
     "output_type": "stream",
     "text": [
      "[Parallel(n_jobs=1)]: Done   1 out of   1 | elapsed:   14.4s remaining:    0.0s\n"
     ]
    },
    {
     "name": "stdout",
     "output_type": "stream",
     "text": [
      "[CV]  model__C=5, model__kernel=linear, sfs__k_features=5, score=0.960, total=  13.1s\n",
      "[CV] model__C=5, model__kernel=linear, sfs__k_features=5 .............\n"
     ]
    },
    {
     "name": "stderr",
     "output_type": "stream",
     "text": [
      "[Parallel(n_jobs=1)]: Done   2 out of   2 | elapsed:   27.5s remaining:    0.0s\n"
     ]
    },
    {
     "name": "stdout",
     "output_type": "stream",
     "text": [
      "[CV]  model__C=5, model__kernel=linear, sfs__k_features=5, score=0.920, total=  13.0s\n",
      "[CV] model__C=5, model__kernel=linear, sfs__k_features=5 .............\n",
      "[CV]  model__C=5, model__kernel=linear, sfs__k_features=5, score=0.920, total=  12.9s\n",
      "[CV] model__C=5, model__kernel=linear, sfs__k_features=6 .............\n",
      "[CV]  model__C=5, model__kernel=linear, sfs__k_features=6, score=0.880, total=  15.8s\n",
      "[CV] model__C=5, model__kernel=linear, sfs__k_features=6 .............\n",
      "[CV]  model__C=5, model__kernel=linear, sfs__k_features=6, score=0.960, total=  16.5s\n",
      "[CV] model__C=5, model__kernel=linear, sfs__k_features=6 .............\n",
      "[CV]  model__C=5, model__kernel=linear, sfs__k_features=6, score=0.880, total=  16.2s\n",
      "[CV] model__C=5, model__kernel=linear, sfs__k_features=6 .............\n",
      "[CV]  model__C=5, model__kernel=linear, sfs__k_features=6, score=0.920, total=  15.8s\n",
      "[CV] model__C=5, model__kernel=linear, sfs__k_features=10 ............\n",
      "[CV]  model__C=5, model__kernel=linear, sfs__k_features=10, score=0.880, total=  27.2s\n",
      "[CV] model__C=5, model__kernel=linear, sfs__k_features=10 ............\n",
      "[CV]  model__C=5, model__kernel=linear, sfs__k_features=10, score=0.920, total=  27.0s\n",
      "[CV] model__C=5, model__kernel=linear, sfs__k_features=10 ............\n",
      "[CV]  model__C=5, model__kernel=linear, sfs__k_features=10, score=0.920, total=  26.8s\n",
      "[CV] model__C=5, model__kernel=linear, sfs__k_features=10 ............\n",
      "[CV]  model__C=5, model__kernel=linear, sfs__k_features=10, score=0.920, total=  26.6s\n",
      "[CV] model__C=5, model__kernel=linear, sfs__k_features=15 ............\n",
      "[CV]  model__C=5, model__kernel=linear, sfs__k_features=15, score=0.880, total=  41.5s\n",
      "[CV] model__C=5, model__kernel=linear, sfs__k_features=15 ............\n",
      "[CV]  model__C=5, model__kernel=linear, sfs__k_features=15, score=0.920, total=  40.0s\n",
      "[CV] model__C=5, model__kernel=linear, sfs__k_features=15 ............\n",
      "[CV]  model__C=5, model__kernel=linear, sfs__k_features=15, score=0.920, total=  41.0s\n",
      "[CV] model__C=5, model__kernel=linear, sfs__k_features=15 ............\n",
      "[CV]  model__C=5, model__kernel=linear, sfs__k_features=15, score=0.880, total=  40.5s\n",
      "[CV] model__C=5, model__kernel=rbf, sfs__k_features=5 ................\n",
      "[CV]  model__C=5, model__kernel=rbf, sfs__k_features=5, score=0.920, total=  13.1s\n",
      "[CV] model__C=5, model__kernel=rbf, sfs__k_features=5 ................\n",
      "[CV]  model__C=5, model__kernel=rbf, sfs__k_features=5, score=0.920, total=  13.3s\n",
      "[CV] model__C=5, model__kernel=rbf, sfs__k_features=5 ................\n",
      "[CV]  model__C=5, model__kernel=rbf, sfs__k_features=5, score=0.880, total=  15.3s\n",
      "[CV] model__C=5, model__kernel=rbf, sfs__k_features=5 ................\n",
      "[CV]  model__C=5, model__kernel=rbf, sfs__k_features=5, score=0.960, total=  13.4s\n",
      "[CV] model__C=5, model__kernel=rbf, sfs__k_features=6 ................\n",
      "[CV]  model__C=5, model__kernel=rbf, sfs__k_features=6, score=0.920, total=  15.9s\n",
      "[CV] model__C=5, model__kernel=rbf, sfs__k_features=6 ................\n",
      "[CV]  model__C=5, model__kernel=rbf, sfs__k_features=6, score=0.960, total=  15.7s\n",
      "[CV] model__C=5, model__kernel=rbf, sfs__k_features=6 ................\n",
      "[CV]  model__C=5, model__kernel=rbf, sfs__k_features=6, score=0.840, total=  15.9s\n",
      "[CV] model__C=5, model__kernel=rbf, sfs__k_features=6 ................\n",
      "[CV]  model__C=5, model__kernel=rbf, sfs__k_features=6, score=0.960, total=  15.7s\n",
      "[CV] model__C=5, model__kernel=rbf, sfs__k_features=10 ...............\n",
      "[CV]  model__C=5, model__kernel=rbf, sfs__k_features=10, score=0.880, total=  26.8s\n",
      "[CV] model__C=5, model__kernel=rbf, sfs__k_features=10 ...............\n",
      "[CV]  model__C=5, model__kernel=rbf, sfs__k_features=10, score=0.840, total=  26.8s\n",
      "[CV] model__C=5, model__kernel=rbf, sfs__k_features=10 ...............\n",
      "[CV]  model__C=5, model__kernel=rbf, sfs__k_features=10, score=0.880, total=  26.7s\n",
      "[CV] model__C=5, model__kernel=rbf, sfs__k_features=10 ...............\n",
      "[CV]  model__C=5, model__kernel=rbf, sfs__k_features=10, score=0.960, total=  26.8s\n",
      "[CV] model__C=5, model__kernel=rbf, sfs__k_features=15 ...............\n",
      "[CV]  model__C=5, model__kernel=rbf, sfs__k_features=15, score=0.880, total=  41.4s\n",
      "[CV] model__C=5, model__kernel=rbf, sfs__k_features=15 ...............\n",
      "[CV]  model__C=5, model__kernel=rbf, sfs__k_features=15, score=0.920, total=  40.3s\n",
      "[CV] model__C=5, model__kernel=rbf, sfs__k_features=15 ...............\n",
      "[CV]  model__C=5, model__kernel=rbf, sfs__k_features=15, score=0.880, total=  49.0s\n",
      "[CV] model__C=5, model__kernel=rbf, sfs__k_features=15 ...............\n",
      "[CV]  model__C=5, model__kernel=rbf, sfs__k_features=15, score=0.880, total=  46.2s\n",
      "[CV] model__C=10, model__kernel=linear, sfs__k_features=5 ............\n",
      "[CV]  model__C=10, model__kernel=linear, sfs__k_features=5, score=0.920, total=  13.9s\n",
      "[CV] model__C=10, model__kernel=linear, sfs__k_features=5 ............\n",
      "[CV]  model__C=10, model__kernel=linear, sfs__k_features=5, score=0.960, total=  15.2s\n",
      "[CV] model__C=10, model__kernel=linear, sfs__k_features=5 ............\n",
      "[CV]  model__C=10, model__kernel=linear, sfs__k_features=5, score=0.880, total=  13.4s\n",
      "[CV] model__C=10, model__kernel=linear, sfs__k_features=5 ............\n",
      "[CV]  model__C=10, model__kernel=linear, sfs__k_features=5, score=0.960, total=  13.4s\n",
      "[CV] model__C=10, model__kernel=linear, sfs__k_features=6 ............\n",
      "[CV]  model__C=10, model__kernel=linear, sfs__k_features=6, score=0.880, total=  16.1s\n",
      "[CV] model__C=10, model__kernel=linear, sfs__k_features=6 ............\n",
      "[CV]  model__C=10, model__kernel=linear, sfs__k_features=6, score=0.960, total=  15.9s\n",
      "[CV] model__C=10, model__kernel=linear, sfs__k_features=6 ............\n",
      "[CV]  model__C=10, model__kernel=linear, sfs__k_features=6, score=0.880, total=  16.6s\n",
      "[CV] model__C=10, model__kernel=linear, sfs__k_features=6 ............\n",
      "[CV]  model__C=10, model__kernel=linear, sfs__k_features=6, score=0.960, total=  16.5s\n",
      "[CV] model__C=10, model__kernel=linear, sfs__k_features=10 ...........\n",
      "[CV]  model__C=10, model__kernel=linear, sfs__k_features=10, score=0.880, total=  26.9s\n",
      "[CV] model__C=10, model__kernel=linear, sfs__k_features=10 ...........\n",
      "[CV]  model__C=10, model__kernel=linear, sfs__k_features=10, score=0.880, total=  26.5s\n",
      "[CV] model__C=10, model__kernel=linear, sfs__k_features=10 ...........\n",
      "[CV]  model__C=10, model__kernel=linear, sfs__k_features=10, score=0.920, total=  30.4s\n",
      "[CV] model__C=10, model__kernel=linear, sfs__k_features=10 ...........\n",
      "[CV]  model__C=10, model__kernel=linear, sfs__k_features=10, score=0.960, total=  30.7s\n",
      "[CV] model__C=10, model__kernel=linear, sfs__k_features=15 ...........\n",
      "[CV]  model__C=10, model__kernel=linear, sfs__k_features=15, score=0.880, total=  44.4s\n",
      "[CV] model__C=10, model__kernel=linear, sfs__k_features=15 ...........\n",
      "[CV]  model__C=10, model__kernel=linear, sfs__k_features=15, score=0.960, total=  44.5s\n",
      "[CV] model__C=10, model__kernel=linear, sfs__k_features=15 ...........\n",
      "[CV]  model__C=10, model__kernel=linear, sfs__k_features=15, score=0.920, total= 1.0min\n",
      "[CV] model__C=10, model__kernel=linear, sfs__k_features=15 ...........\n",
      "[CV]  model__C=10, model__kernel=linear, sfs__k_features=15, score=0.880, total=  45.3s\n",
      "[CV] model__C=10, model__kernel=rbf, sfs__k_features=5 ...............\n",
      "[CV]  model__C=10, model__kernel=rbf, sfs__k_features=5, score=0.920, total=  13.9s\n",
      "[CV] model__C=10, model__kernel=rbf, sfs__k_features=5 ...............\n",
      "[CV]  model__C=10, model__kernel=rbf, sfs__k_features=5, score=0.920, total=  13.4s\n",
      "[CV] model__C=10, model__kernel=rbf, sfs__k_features=5 ...............\n",
      "[CV]  model__C=10, model__kernel=rbf, sfs__k_features=5, score=0.840, total=  13.2s\n",
      "[CV] model__C=10, model__kernel=rbf, sfs__k_features=5 ...............\n",
      "[CV]  model__C=10, model__kernel=rbf, sfs__k_features=5, score=0.960, total=  13.6s\n",
      "[CV] model__C=10, model__kernel=rbf, sfs__k_features=6 ...............\n",
      "[CV]  model__C=10, model__kernel=rbf, sfs__k_features=6, score=0.920, total=  16.0s\n",
      "[CV] model__C=10, model__kernel=rbf, sfs__k_features=6 ...............\n",
      "[CV]  model__C=10, model__kernel=rbf, sfs__k_features=6, score=0.960, total=  16.6s\n",
      "[CV] model__C=10, model__kernel=rbf, sfs__k_features=6 ...............\n",
      "[CV]  model__C=10, model__kernel=rbf, sfs__k_features=6, score=0.800, total=  18.0s\n",
      "[CV] model__C=10, model__kernel=rbf, sfs__k_features=6 ...............\n"
     ]
    },
    {
     "name": "stdout",
     "output_type": "stream",
     "text": [
      "[CV]  model__C=10, model__kernel=rbf, sfs__k_features=6, score=0.920, total=  17.8s\n",
      "[CV] model__C=10, model__kernel=rbf, sfs__k_features=10 ..............\n",
      "[CV]  model__C=10, model__kernel=rbf, sfs__k_features=10, score=0.920, total=  29.7s\n",
      "[CV] model__C=10, model__kernel=rbf, sfs__k_features=10 ..............\n",
      "[CV]  model__C=10, model__kernel=rbf, sfs__k_features=10, score=0.880, total=  27.9s\n",
      "[CV] model__C=10, model__kernel=rbf, sfs__k_features=10 ..............\n",
      "[CV]  model__C=10, model__kernel=rbf, sfs__k_features=10, score=0.840, total=  30.4s\n",
      "[CV] model__C=10, model__kernel=rbf, sfs__k_features=10 ..............\n",
      "[CV]  model__C=10, model__kernel=rbf, sfs__k_features=10, score=0.960, total=  29.5s\n",
      "[CV] model__C=10, model__kernel=rbf, sfs__k_features=15 ..............\n",
      "[CV]  model__C=10, model__kernel=rbf, sfs__k_features=15, score=0.880, total=  44.6s\n",
      "[CV] model__C=10, model__kernel=rbf, sfs__k_features=15 ..............\n",
      "[CV]  model__C=10, model__kernel=rbf, sfs__k_features=15, score=0.920, total=  43.3s\n",
      "[CV] model__C=10, model__kernel=rbf, sfs__k_features=15 ..............\n",
      "[CV]  model__C=10, model__kernel=rbf, sfs__k_features=15, score=0.880, total=  42.7s\n",
      "[CV] model__C=10, model__kernel=rbf, sfs__k_features=15 ..............\n",
      "[CV]  model__C=10, model__kernel=rbf, sfs__k_features=15, score=0.880, total=  42.6s\n"
     ]
    },
    {
     "name": "stderr",
     "output_type": "stream",
     "text": [
      "[Parallel(n_jobs=1)]: Done  64 out of  64 | elapsed: 27.2min finished\n"
     ]
    },
    {
     "name": "stdout",
     "output_type": "stream",
     "text": [
      "Best Model {'model__C': 5, 'model__kernel': 'linear', 'sfs__k_features': 5}\n",
      "\n",
      " Test Accuracy with best estimator:  0.82\n"
     ]
    },
    {
     "data": {
      "image/png": "[encoded data removed]",
      "text/plain": [
       "<Figure size 576x288 with 2 Axes>"
      ]
     },
     "metadata": {
      "needs_background": "light"
     },
     "output_type": "display_data"
    },
    {
     "name": "stdout",
     "output_type": "stream",
     "text": [
      "              precision    recall  f1-score   support\n",
      "\n",
      "         DCM       0.83      1.00      0.91        10\n",
      "         HCM       0.83      1.00      0.91        10\n",
      "        MINF       0.67      0.80      0.73        10\n",
      "         NOR       1.00      0.30      0.46        10\n",
      "          RV       0.91      1.00      0.95        10\n",
      "\n",
      "    accuracy                           0.82        50\n",
      "   macro avg       0.85      0.82      0.79        50\n",
      "weighted avg       0.85      0.82      0.79        50\n",
      "\n",
      "Index(['original_glrlm_ShortRunHighGrayLevelEmphasis_LV_ES',\n",
      "       'original_glszm_SizeZoneNonUniformityNormalized_LV_ES', 'ES_dlf_0',\n",
      "       'ES_dlf_2', 'ES_dlf_3'],\n",
      "      dtype='object')\n"
     ]
    }
   ],
   "source": [
    "gs, pipe = SFS_GS(X_train_2, y_train, X_test_2, y_test, model_SVC, param_grid_SVC, X_train2)"
   ]
  },
  {
   "cell_type": "code",
   "execution_count": 261,
   "metadata": {},
   "outputs": [
    {
     "name": "stdout",
     "output_type": "stream",
     "text": [
      "Fitting 4 folds for each of 24 candidates, totalling 96 fits\n",
      "[CV] model__C=0.5, model__kernel=linear, sfs__k_features=5 ...........\n"
     ]
    },
    {
     "name": "stderr",
     "output_type": "stream",
     "text": [
      "[Parallel(n_jobs=1)]: Using backend SequentialBackend with 1 concurrent workers.\n"
     ]
    },
    {
     "name": "stdout",
     "output_type": "stream",
     "text": [
      "[CV]  model__C=0.5, model__kernel=linear, sfs__k_features=5, score=0.840, total=  15.2s\n",
      "[CV] model__C=0.5, model__kernel=linear, sfs__k_features=5 ...........\n"
     ]
    },
    {
     "name": "stderr",
     "output_type": "stream",
     "text": [
      "[Parallel(n_jobs=1)]: Done   1 out of   1 | elapsed:   15.1s remaining:    0.0s\n"
     ]
    },
    {
     "name": "stdout",
     "output_type": "stream",
     "text": [
      "[CV]  model__C=0.5, model__kernel=linear, sfs__k_features=5, score=0.880, total=  15.1s\n",
      "[CV] model__C=0.5, model__kernel=linear, sfs__k_features=5 ...........\n"
     ]
    },
    {
     "name": "stderr",
     "output_type": "stream",
     "text": [
      "[Parallel(n_jobs=1)]: Done   2 out of   2 | elapsed:   30.2s remaining:    0.0s\n"
     ]
    },
    {
     "name": "stdout",
     "output_type": "stream",
     "text": [
      "[CV]  model__C=0.5, model__kernel=linear, sfs__k_features=5, score=0.760, total=  14.3s\n",
      "[CV] model__C=0.5, model__kernel=linear, sfs__k_features=5 ...........\n",
      "[CV]  model__C=0.5, model__kernel=linear, sfs__k_features=5, score=0.760, total=  14.7s\n",
      "[CV] model__C=0.5, model__kernel=linear, sfs__k_features=10 ..........\n",
      "[CV]  model__C=0.5, model__kernel=linear, sfs__k_features=10, score=0.880, total=  31.1s\n",
      "[CV] model__C=0.5, model__kernel=linear, sfs__k_features=10 ..........\n",
      "[CV]  model__C=0.5, model__kernel=linear, sfs__k_features=10, score=0.880, total=  30.9s\n",
      "[CV] model__C=0.5, model__kernel=linear, sfs__k_features=10 ..........\n",
      "[CV]  model__C=0.5, model__kernel=linear, sfs__k_features=10, score=0.760, total=  32.1s\n",
      "[CV] model__C=0.5, model__kernel=linear, sfs__k_features=10 ..........\n",
      "[CV]  model__C=0.5, model__kernel=linear, sfs__k_features=10, score=0.800, total=  31.6s\n",
      "[CV] model__C=0.5, model__kernel=linear, sfs__k_features=15 ..........\n",
      "[CV]  model__C=0.5, model__kernel=linear, sfs__k_features=15, score=0.880, total=  46.2s\n",
      "[CV] model__C=0.5, model__kernel=linear, sfs__k_features=15 ..........\n",
      "[CV]  model__C=0.5, model__kernel=linear, sfs__k_features=15, score=0.880, total=  44.1s\n",
      "[CV] model__C=0.5, model__kernel=linear, sfs__k_features=15 ..........\n",
      "[CV]  model__C=0.5, model__kernel=linear, sfs__k_features=15, score=0.800, total=  47.6s\n",
      "[CV] model__C=0.5, model__kernel=linear, sfs__k_features=15 ..........\n",
      "[CV]  model__C=0.5, model__kernel=linear, sfs__k_features=15, score=0.920, total=  45.4s\n",
      "[CV] model__C=0.5, model__kernel=rbf, sfs__k_features=5 ..............\n",
      "[CV]  model__C=0.5, model__kernel=rbf, sfs__k_features=5, score=0.920, total=  15.2s\n",
      "[CV] model__C=0.5, model__kernel=rbf, sfs__k_features=5 ..............\n",
      "[CV]  model__C=0.5, model__kernel=rbf, sfs__k_features=5, score=0.880, total=  16.6s\n",
      "[CV] model__C=0.5, model__kernel=rbf, sfs__k_features=5 ..............\n",
      "[CV]  model__C=0.5, model__kernel=rbf, sfs__k_features=5, score=0.880, total=  15.1s\n",
      "[CV] model__C=0.5, model__kernel=rbf, sfs__k_features=5 ..............\n",
      "[CV]  model__C=0.5, model__kernel=rbf, sfs__k_features=5, score=0.920, total=  15.4s\n",
      "[CV] model__C=0.5, model__kernel=rbf, sfs__k_features=10 .............\n",
      "[CV]  model__C=0.5, model__kernel=rbf, sfs__k_features=10, score=0.880, total=  29.7s\n",
      "[CV] model__C=0.5, model__kernel=rbf, sfs__k_features=10 .............\n",
      "[CV]  model__C=0.5, model__kernel=rbf, sfs__k_features=10, score=0.880, total=  29.5s\n",
      "[CV] model__C=0.5, model__kernel=rbf, sfs__k_features=10 .............\n",
      "[CV]  model__C=0.5, model__kernel=rbf, sfs__k_features=10, score=0.800, total=  29.7s\n",
      "[CV] model__C=0.5, model__kernel=rbf, sfs__k_features=10 .............\n",
      "[CV]  model__C=0.5, model__kernel=rbf, sfs__k_features=10, score=0.840, total=  26.6s\n",
      "[CV] model__C=0.5, model__kernel=rbf, sfs__k_features=15 .............\n",
      "[CV]  model__C=0.5, model__kernel=rbf, sfs__k_features=15, score=0.880, total=  44.5s\n",
      "[CV] model__C=0.5, model__kernel=rbf, sfs__k_features=15 .............\n",
      "[CV]  model__C=0.5, model__kernel=rbf, sfs__k_features=15, score=0.880, total=  44.3s\n",
      "[CV] model__C=0.5, model__kernel=rbf, sfs__k_features=15 .............\n",
      "[CV]  model__C=0.5, model__kernel=rbf, sfs__k_features=15, score=0.800, total=  47.2s\n",
      "[CV] model__C=0.5, model__kernel=rbf, sfs__k_features=15 .............\n",
      "[CV]  model__C=0.5, model__kernel=rbf, sfs__k_features=15, score=0.880, total=  46.7s\n",
      "[CV] model__C=1, model__kernel=linear, sfs__k_features=5 .............\n",
      "[CV]  model__C=1, model__kernel=linear, sfs__k_features=5, score=0.920, total=  14.8s\n",
      "[CV] model__C=1, model__kernel=linear, sfs__k_features=5 .............\n",
      "[CV]  model__C=1, model__kernel=linear, sfs__k_features=5, score=0.920, total=  14.5s\n",
      "[CV] model__C=1, model__kernel=linear, sfs__k_features=5 .............\n",
      "[CV]  model__C=1, model__kernel=linear, sfs__k_features=5, score=0.800, total=  14.6s\n",
      "[CV] model__C=1, model__kernel=linear, sfs__k_features=5 .............\n",
      "[CV]  model__C=1, model__kernel=linear, sfs__k_features=5, score=0.920, total=  14.6s\n",
      "[CV] model__C=1, model__kernel=linear, sfs__k_features=10 ............\n",
      "[CV]  model__C=1, model__kernel=linear, sfs__k_features=10, score=0.880, total=  29.0s\n",
      "[CV] model__C=1, model__kernel=linear, sfs__k_features=10 ............\n",
      "[CV]  model__C=1, model__kernel=linear, sfs__k_features=10, score=0.920, total=  30.1s\n",
      "[CV] model__C=1, model__kernel=linear, sfs__k_features=10 ............\n",
      "[CV]  model__C=1, model__kernel=linear, sfs__k_features=10, score=0.800, total=  29.8s\n",
      "[CV] model__C=1, model__kernel=linear, sfs__k_features=10 ............\n",
      "[CV]  model__C=1, model__kernel=linear, sfs__k_features=10, score=0.880, total=  30.1s\n",
      "[CV] model__C=1, model__kernel=linear, sfs__k_features=15 ............\n",
      "[CV]  model__C=1, model__kernel=linear, sfs__k_features=15, score=0.880, total=  44.8s\n",
      "[CV] model__C=1, model__kernel=linear, sfs__k_features=15 ............\n",
      "[CV]  model__C=1, model__kernel=linear, sfs__k_features=15, score=0.920, total=  45.8s\n",
      "[CV] model__C=1, model__kernel=linear, sfs__k_features=15 ............\n",
      "[CV]  model__C=1, model__kernel=linear, sfs__k_features=15, score=0.800, total=  45.1s\n",
      "[CV] model__C=1, model__kernel=linear, sfs__k_features=15 ............\n",
      "[CV]  model__C=1, model__kernel=linear, sfs__k_features=15, score=0.920, total=  41.4s\n",
      "[CV] model__C=1, model__kernel=rbf, sfs__k_features=5 ................\n",
      "[CV]  model__C=1, model__kernel=rbf, sfs__k_features=5, score=0.920, total=  15.4s\n",
      "[CV] model__C=1, model__kernel=rbf, sfs__k_features=5 ................\n",
      "[CV]  model__C=1, model__kernel=rbf, sfs__k_features=5, score=0.880, total=  14.9s\n",
      "[CV] model__C=1, model__kernel=rbf, sfs__k_features=5 ................\n",
      "[CV]  model__C=1, model__kernel=rbf, sfs__k_features=5, score=0.880, total=  15.2s\n",
      "[CV] model__C=1, model__kernel=rbf, sfs__k_features=5 ................\n",
      "[CV]  model__C=1, model__kernel=rbf, sfs__k_features=5, score=0.880, total=  16.8s\n",
      "[CV] model__C=1, model__kernel=rbf, sfs__k_features=10 ...............\n",
      "[CV]  model__C=1, model__kernel=rbf, sfs__k_features=10, score=0.880, total=  31.1s\n",
      "[CV] model__C=1, model__kernel=rbf, sfs__k_features=10 ...............\n",
      "[CV]  model__C=1, model__kernel=rbf, sfs__k_features=10, score=0.880, total=  28.3s\n",
      "[CV] model__C=1, model__kernel=rbf, sfs__k_features=10 ...............\n",
      "[CV]  model__C=1, model__kernel=rbf, sfs__k_features=10, score=0.840, total=  29.4s\n",
      "[CV] model__C=1, model__kernel=rbf, sfs__k_features=10 ...............\n",
      "[CV]  model__C=1, model__kernel=rbf, sfs__k_features=10, score=1.000, total=  29.4s\n",
      "[CV] model__C=1, model__kernel=rbf, sfs__k_features=15 ...............\n",
      "[CV]  model__C=1, model__kernel=rbf, sfs__k_features=15, score=0.880, total=  47.6s\n",
      "[CV] model__C=1, model__kernel=rbf, sfs__k_features=15 ...............\n",
      "[CV]  model__C=1, model__kernel=rbf, sfs__k_features=15, score=0.920, total=  49.4s\n",
      "[CV] model__C=1, model__kernel=rbf, sfs__k_features=15 ...............\n",
      "[CV]  model__C=1, model__kernel=rbf, sfs__k_features=15, score=0.800, total=  46.7s\n",
      "[CV] model__C=1, model__kernel=rbf, sfs__k_features=15 ...............\n",
      "[CV]  model__C=1, model__kernel=rbf, sfs__k_features=15, score=0.880, total=  47.1s\n",
      "[CV] model__C=5, model__kernel=linear, sfs__k_features=5 .............\n",
      "[CV]  model__C=5, model__kernel=linear, sfs__k_features=5, score=0.920, total=  15.5s\n",
      "[CV] model__C=5, model__kernel=linear, sfs__k_features=5 .............\n",
      "[CV]  model__C=5, model__kernel=linear, sfs__k_features=5, score=0.960, total=  15.2s\n",
      "[CV] model__C=5, model__kernel=linear, sfs__k_features=5 .............\n",
      "[CV]  model__C=5, model__kernel=linear, sfs__k_features=5, score=0.920, total=  14.9s\n",
      "[CV] model__C=5, model__kernel=linear, sfs__k_features=5 .............\n",
      "[CV]  model__C=5, model__kernel=linear, sfs__k_features=5, score=0.920, total=  14.3s\n",
      "[CV] model__C=5, model__kernel=linear, sfs__k_features=10 ............\n",
      "[CV]  model__C=5, model__kernel=linear, sfs__k_features=10, score=0.880, total=  30.8s\n",
      "[CV] model__C=5, model__kernel=linear, sfs__k_features=10 ............\n",
      "[CV]  model__C=5, model__kernel=linear, sfs__k_features=10, score=0.920, total=  30.0s\n",
      "[CV] model__C=5, model__kernel=linear, sfs__k_features=10 ............\n",
      "[CV]  model__C=5, model__kernel=linear, sfs__k_features=10, score=0.920, total=  33.1s\n",
      "[CV] model__C=5, model__kernel=linear, sfs__k_features=10 ............\n"
     ]
    },
    {
     "name": "stdout",
     "output_type": "stream",
     "text": [
      "[CV]  model__C=5, model__kernel=linear, sfs__k_features=10, score=0.920, total=  30.0s\n",
      "[CV] model__C=5, model__kernel=linear, sfs__k_features=15 ............\n",
      "[CV]  model__C=5, model__kernel=linear, sfs__k_features=15, score=0.880, total=  45.9s\n",
      "[CV] model__C=5, model__kernel=linear, sfs__k_features=15 ............\n",
      "[CV]  model__C=5, model__kernel=linear, sfs__k_features=15, score=0.920, total=  45.2s\n",
      "[CV] model__C=5, model__kernel=linear, sfs__k_features=15 ............\n",
      "[CV]  model__C=5, model__kernel=linear, sfs__k_features=15, score=0.920, total=  46.6s\n",
      "[CV] model__C=5, model__kernel=linear, sfs__k_features=15 ............\n",
      "[CV]  model__C=5, model__kernel=linear, sfs__k_features=15, score=0.880, total=  48.4s\n",
      "[CV] model__C=5, model__kernel=rbf, sfs__k_features=5 ................\n",
      "[CV]  model__C=5, model__kernel=rbf, sfs__k_features=5, score=0.920, total=  16.5s\n",
      "[CV] model__C=5, model__kernel=rbf, sfs__k_features=5 ................\n",
      "[CV]  model__C=5, model__kernel=rbf, sfs__k_features=5, score=0.920, total=  16.5s\n",
      "[CV] model__C=5, model__kernel=rbf, sfs__k_features=5 ................\n",
      "[CV]  model__C=5, model__kernel=rbf, sfs__k_features=5, score=0.880, total=  15.3s\n",
      "[CV] model__C=5, model__kernel=rbf, sfs__k_features=5 ................\n",
      "[CV]  model__C=5, model__kernel=rbf, sfs__k_features=5, score=0.960, total=  15.1s\n",
      "[CV] model__C=5, model__kernel=rbf, sfs__k_features=10 ...............\n",
      "[CV]  model__C=5, model__kernel=rbf, sfs__k_features=10, score=0.880, total=  30.0s\n",
      "[CV] model__C=5, model__kernel=rbf, sfs__k_features=10 ...............\n",
      "[CV]  model__C=5, model__kernel=rbf, sfs__k_features=10, score=0.840, total=  27.1s\n",
      "[CV] model__C=5, model__kernel=rbf, sfs__k_features=10 ...............\n",
      "[CV]  model__C=5, model__kernel=rbf, sfs__k_features=10, score=0.880, total=  28.9s\n",
      "[CV] model__C=5, model__kernel=rbf, sfs__k_features=10 ...............\n",
      "[CV]  model__C=5, model__kernel=rbf, sfs__k_features=10, score=0.960, total=  32.4s\n",
      "[CV] model__C=5, model__kernel=rbf, sfs__k_features=15 ...............\n",
      "[CV]  model__C=5, model__kernel=rbf, sfs__k_features=15, score=0.880, total=  46.5s\n",
      "[CV] model__C=5, model__kernel=rbf, sfs__k_features=15 ...............\n",
      "[CV]  model__C=5, model__kernel=rbf, sfs__k_features=15, score=0.920, total=  46.5s\n",
      "[CV] model__C=5, model__kernel=rbf, sfs__k_features=15 ...............\n",
      "[CV]  model__C=5, model__kernel=rbf, sfs__k_features=15, score=0.880, total=  48.7s\n",
      "[CV] model__C=5, model__kernel=rbf, sfs__k_features=15 ...............\n",
      "[CV]  model__C=5, model__kernel=rbf, sfs__k_features=15, score=0.880, total=  45.8s\n",
      "[CV] model__C=10, model__kernel=linear, sfs__k_features=5 ............\n",
      "[CV]  model__C=10, model__kernel=linear, sfs__k_features=5, score=0.920, total=  15.1s\n",
      "[CV] model__C=10, model__kernel=linear, sfs__k_features=5 ............\n",
      "[CV]  model__C=10, model__kernel=linear, sfs__k_features=5, score=0.960, total=  16.3s\n",
      "[CV] model__C=10, model__kernel=linear, sfs__k_features=5 ............\n",
      "[CV]  model__C=10, model__kernel=linear, sfs__k_features=5, score=0.880, total=  16.8s\n",
      "[CV] model__C=10, model__kernel=linear, sfs__k_features=5 ............\n",
      "[CV]  model__C=10, model__kernel=linear, sfs__k_features=5, score=0.960, total=  15.5s\n",
      "[CV] model__C=10, model__kernel=linear, sfs__k_features=10 ...........\n",
      "[CV]  model__C=10, model__kernel=linear, sfs__k_features=10, score=0.880, total=  33.3s\n",
      "[CV] model__C=10, model__kernel=linear, sfs__k_features=10 ...........\n",
      "[CV]  model__C=10, model__kernel=linear, sfs__k_features=10, score=0.880, total=  28.9s\n",
      "[CV] model__C=10, model__kernel=linear, sfs__k_features=10 ...........\n",
      "[CV]  model__C=10, model__kernel=linear, sfs__k_features=10, score=0.920, total=  27.7s\n",
      "[CV] model__C=10, model__kernel=linear, sfs__k_features=10 ...........\n",
      "[CV]  model__C=10, model__kernel=linear, sfs__k_features=10, score=0.960, total=  30.7s\n",
      "[CV] model__C=10, model__kernel=linear, sfs__k_features=15 ...........\n",
      "[CV]  model__C=10, model__kernel=linear, sfs__k_features=15, score=0.880, total=  46.9s\n",
      "[CV] model__C=10, model__kernel=linear, sfs__k_features=15 ...........\n",
      "[CV]  model__C=10, model__kernel=linear, sfs__k_features=15, score=0.960, total=  45.6s\n",
      "[CV] model__C=10, model__kernel=linear, sfs__k_features=15 ...........\n",
      "[CV]  model__C=10, model__kernel=linear, sfs__k_features=15, score=0.920, total=  47.6s\n",
      "[CV] model__C=10, model__kernel=linear, sfs__k_features=15 ...........\n",
      "[CV]  model__C=10, model__kernel=linear, sfs__k_features=15, score=0.880, total=  48.0s\n",
      "[CV] model__C=10, model__kernel=rbf, sfs__k_features=5 ...............\n",
      "[CV]  model__C=10, model__kernel=rbf, sfs__k_features=5, score=0.920, total=  14.7s\n",
      "[CV] model__C=10, model__kernel=rbf, sfs__k_features=5 ...............\n",
      "[CV]  model__C=10, model__kernel=rbf, sfs__k_features=5, score=0.920, total=  15.9s\n",
      "[CV] model__C=10, model__kernel=rbf, sfs__k_features=5 ...............\n",
      "[CV]  model__C=10, model__kernel=rbf, sfs__k_features=5, score=0.840, total=  16.0s\n",
      "[CV] model__C=10, model__kernel=rbf, sfs__k_features=5 ...............\n",
      "[CV]  model__C=10, model__kernel=rbf, sfs__k_features=5, score=0.960, total=  15.8s\n",
      "[CV] model__C=10, model__kernel=rbf, sfs__k_features=10 ..............\n",
      "[CV]  model__C=10, model__kernel=rbf, sfs__k_features=10, score=0.920, total=  29.8s\n",
      "[CV] model__C=10, model__kernel=rbf, sfs__k_features=10 ..............\n",
      "[CV]  model__C=10, model__kernel=rbf, sfs__k_features=10, score=0.880, total=  28.4s\n",
      "[CV] model__C=10, model__kernel=rbf, sfs__k_features=10 ..............\n",
      "[CV]  model__C=10, model__kernel=rbf, sfs__k_features=10, score=0.840, total=  30.2s\n",
      "[CV] model__C=10, model__kernel=rbf, sfs__k_features=10 ..............\n",
      "[CV]  model__C=10, model__kernel=rbf, sfs__k_features=10, score=0.960, total=  31.0s\n",
      "[CV] model__C=10, model__kernel=rbf, sfs__k_features=15 ..............\n",
      "[CV]  model__C=10, model__kernel=rbf, sfs__k_features=15, score=0.880, total=  44.5s\n",
      "[CV] model__C=10, model__kernel=rbf, sfs__k_features=15 ..............\n",
      "[CV]  model__C=10, model__kernel=rbf, sfs__k_features=15, score=0.920, total=  55.2s\n",
      "[CV] model__C=10, model__kernel=rbf, sfs__k_features=15 ..............\n",
      "[CV]  model__C=10, model__kernel=rbf, sfs__k_features=15, score=0.880, total=  54.3s\n",
      "[CV] model__C=10, model__kernel=rbf, sfs__k_features=15 ..............\n",
      "[CV]  model__C=10, model__kernel=rbf, sfs__k_features=15, score=0.880, total=  46.1s\n"
     ]
    },
    {
     "name": "stderr",
     "output_type": "stream",
     "text": [
      "[Parallel(n_jobs=1)]: Done  96 out of  96 | elapsed: 49.1min finished\n"
     ]
    },
    {
     "name": "stdout",
     "output_type": "stream",
     "text": [
      "Best Model {'model__C': 5, 'model__kernel': 'linear', 'sfs__k_features': 5}\n",
      "\n",
      " Test Accuracy with best estimator:  0.9\n"
     ]
    },
    {
     "data": {
      "image/png": "[encoded data removed]",
      "text/plain": [
       "<Figure size 576x288 with 2 Axes>"
      ]
     },
     "metadata": {
      "needs_background": "light"
     },
     "output_type": "display_data"
    },
    {
     "name": "stdout",
     "output_type": "stream",
     "text": [
      "              precision    recall  f1-score   support\n",
      "\n",
      "         DCM       0.91      1.00      0.95        10\n",
      "         HCM       0.83      1.00      0.91        10\n",
      "        MINF       0.90      0.90      0.90        10\n",
      "         NOR       1.00      0.60      0.75        10\n",
      "          RV       0.91      1.00      0.95        10\n",
      "\n",
      "    accuracy                           0.90        50\n",
      "   macro avg       0.91      0.90      0.89        50\n",
      "weighted avg       0.91      0.90      0.89        50\n",
      "\n",
      "Index(['original_glrlm_ShortRunHighGrayLevelEmphasis_LV_ES',\n",
      "       'original_glszm_SizeZoneNonUniformityNormalized_LV_ES', 'ES_dlf_0',\n",
      "       'ES_dlf_2', 'ES_dlf_3'],\n",
      "      dtype='object')\n"
     ]
    }
   ],
   "source": [
    "#gs, pipe = SFS_GS(X_train_4, y_train, X_test_4, y_test, model_SVC, param_grid_SVC, X_train4)"
   ]
  },
  {
   "cell_type": "code",
   "execution_count": 56,
   "metadata": {},
   "outputs": [
    {
     "name": "stdout",
     "output_type": "stream",
     "text": [
      "dict_keys(['memory', 'steps', 'verbose', 'selector', 'model', 'selector__k', 'selector__score_func', 'model__C', 'model__cache_size', 'model__class_weight', 'model__coef0', 'model__decision_function_shape', 'model__degree', 'model__gamma', 'model__kernel', 'model__max_iter', 'model__probability', 'model__random_state', 'model__shrinking', 'model__tol', 'model__verbose'])\n"
     ]
    },
    {
     "ename": "KeyboardInterrupt",
     "evalue": "",
     "output_type": "error",
     "traceback": [
      "\u001b[1;31m---------------------------------------------------------------------------\u001b[0m",
      "\u001b[1;31mKeyboardInterrupt\u001b[0m                         Traceback (most recent call last)",
      "\u001b[1;32m<ipython-input-56-64839d08f4f5>\u001b[0m in \u001b[0;36m<module>\u001b[1;34m\u001b[0m\n\u001b[1;32m----> 1\u001b[1;33m \u001b[0mgs\u001b[0m \u001b[1;33m=\u001b[0m \u001b[0mKBest_GS\u001b[0m\u001b[1;33m(\u001b[0m\u001b[0mX_train_2\u001b[0m\u001b[1;33m,\u001b[0m \u001b[0my_train\u001b[0m\u001b[1;33m,\u001b[0m \u001b[0mX_test_2\u001b[0m\u001b[1;33m,\u001b[0m \u001b[0my_test\u001b[0m\u001b[1;33m,\u001b[0m \u001b[0mmodel_SVC\u001b[0m\u001b[1;33m,\u001b[0m \u001b[0mparam_grid_SVC\u001b[0m\u001b[1;33m,\u001b[0m \u001b[0mX_train2\u001b[0m\u001b[1;33m)\u001b[0m\u001b[1;33m\u001b[0m\u001b[1;33m\u001b[0m\u001b[0m\n\u001b[0m",
      "\u001b[1;32m<ipython-input-29-c2a4e19af18d>\u001b[0m in \u001b[0;36mKBest_GS\u001b[1;34m(X_train, y_train, X_test, y_test, model, param_grid, df)\u001b[0m\n\u001b[0;32m     28\u001b[0m     \u001b[0mprint\u001b[0m\u001b[1;33m(\u001b[0m\u001b[0mpipe\u001b[0m\u001b[1;33m.\u001b[0m\u001b[0mget_params\u001b[0m\u001b[1;33m(\u001b[0m\u001b[1;33m)\u001b[0m\u001b[1;33m.\u001b[0m\u001b[0mkeys\u001b[0m\u001b[1;33m(\u001b[0m\u001b[1;33m)\u001b[0m\u001b[1;33m)\u001b[0m\u001b[1;33m\u001b[0m\u001b[1;33m\u001b[0m\u001b[0m\n\u001b[0;32m     29\u001b[0m \u001b[1;33m\u001b[0m\u001b[0m\n\u001b[1;32m---> 30\u001b[1;33m     \u001b[0mgs\u001b[0m \u001b[1;33m=\u001b[0m \u001b[0mgs\u001b[0m\u001b[1;33m.\u001b[0m\u001b[0mfit\u001b[0m\u001b[1;33m(\u001b[0m\u001b[0mX_train\u001b[0m\u001b[1;33m,\u001b[0m \u001b[0my_train\u001b[0m\u001b[1;33m)\u001b[0m\u001b[1;33m\u001b[0m\u001b[1;33m\u001b[0m\u001b[0m\n\u001b[0m\u001b[0;32m     31\u001b[0m \u001b[1;33m\u001b[0m\u001b[0m\n\u001b[0;32m     32\u001b[0m     \u001b[0mprint\u001b[0m\u001b[1;33m(\u001b[0m\u001b[1;34m\"Best Model\"\u001b[0m\u001b[1;33m,\u001b[0m \u001b[0mgs\u001b[0m\u001b[1;33m.\u001b[0m\u001b[0mbest_params_\u001b[0m\u001b[1;33m)\u001b[0m\u001b[1;33m\u001b[0m\u001b[1;33m\u001b[0m\u001b[0m\n",
      "\u001b[1;32m~\\Anaconda3\\lib\\site-packages\\sklearn\\model_selection\\_search.py\u001b[0m in \u001b[0;36mfit\u001b[1;34m(self, X, y, groups, **fit_params)\u001b[0m\n\u001b[0;32m    687\u001b[0m                 \u001b[1;32mreturn\u001b[0m \u001b[0mresults\u001b[0m\u001b[1;33m\u001b[0m\u001b[1;33m\u001b[0m\u001b[0m\n\u001b[0;32m    688\u001b[0m \u001b[1;33m\u001b[0m\u001b[0m\n\u001b[1;32m--> 689\u001b[1;33m             \u001b[0mself\u001b[0m\u001b[1;33m.\u001b[0m\u001b[0m_run_search\u001b[0m\u001b[1;33m(\u001b[0m\u001b[0mevaluate_candidates\u001b[0m\u001b[1;33m)\u001b[0m\u001b[1;33m\u001b[0m\u001b[1;33m\u001b[0m\u001b[0m\n\u001b[0m\u001b[0;32m    690\u001b[0m \u001b[1;33m\u001b[0m\u001b[0m\n\u001b[0;32m    691\u001b[0m         \u001b[1;31m# For multi-metric evaluation, store the best_index_, best_params_ and\u001b[0m\u001b[1;33m\u001b[0m\u001b[1;33m\u001b[0m\u001b[1;33m\u001b[0m\u001b[0m\n",
      "\u001b[1;32m~\\Anaconda3\\lib\\site-packages\\sklearn\\model_selection\\_search.py\u001b[0m in \u001b[0;36m_run_search\u001b[1;34m(self, evaluate_candidates)\u001b[0m\n\u001b[0;32m   1148\u001b[0m     \u001b[1;32mdef\u001b[0m \u001b[0m_run_search\u001b[0m\u001b[1;33m(\u001b[0m\u001b[0mself\u001b[0m\u001b[1;33m,\u001b[0m \u001b[0mevaluate_candidates\u001b[0m\u001b[1;33m)\u001b[0m\u001b[1;33m:\u001b[0m\u001b[1;33m\u001b[0m\u001b[1;33m\u001b[0m\u001b[0m\n\u001b[0;32m   1149\u001b[0m         \u001b[1;34m\"\"\"Search all candidates in param_grid\"\"\"\u001b[0m\u001b[1;33m\u001b[0m\u001b[1;33m\u001b[0m\u001b[0m\n\u001b[1;32m-> 1150\u001b[1;33m         \u001b[0mevaluate_candidates\u001b[0m\u001b[1;33m(\u001b[0m\u001b[0mParameterGrid\u001b[0m\u001b[1;33m(\u001b[0m\u001b[0mself\u001b[0m\u001b[1;33m.\u001b[0m\u001b[0mparam_grid\u001b[0m\u001b[1;33m)\u001b[0m\u001b[1;33m)\u001b[0m\u001b[1;33m\u001b[0m\u001b[1;33m\u001b[0m\u001b[0m\n\u001b[0m\u001b[0;32m   1151\u001b[0m \u001b[1;33m\u001b[0m\u001b[0m\n\u001b[0;32m   1152\u001b[0m \u001b[1;33m\u001b[0m\u001b[0m\n",
      "\u001b[1;32m~\\Anaconda3\\lib\\site-packages\\sklearn\\model_selection\\_search.py\u001b[0m in \u001b[0;36mevaluate_candidates\u001b[1;34m(candidate_params)\u001b[0m\n\u001b[0;32m    666\u001b[0m                                \u001b[1;32mfor\u001b[0m \u001b[0mparameters\u001b[0m\u001b[1;33m,\u001b[0m \u001b[1;33m(\u001b[0m\u001b[0mtrain\u001b[0m\u001b[1;33m,\u001b[0m \u001b[0mtest\u001b[0m\u001b[1;33m)\u001b[0m\u001b[1;33m\u001b[0m\u001b[1;33m\u001b[0m\u001b[0m\n\u001b[0;32m    667\u001b[0m                                in product(candidate_params,\n\u001b[1;32m--> 668\u001b[1;33m                                           cv.split(X, y, groups)))\n\u001b[0m\u001b[0;32m    669\u001b[0m \u001b[1;33m\u001b[0m\u001b[0m\n\u001b[0;32m    670\u001b[0m                 \u001b[1;32mif\u001b[0m \u001b[0mlen\u001b[0m\u001b[1;33m(\u001b[0m\u001b[0mout\u001b[0m\u001b[1;33m)\u001b[0m \u001b[1;33m<\u001b[0m \u001b[1;36m1\u001b[0m\u001b[1;33m:\u001b[0m\u001b[1;33m\u001b[0m\u001b[1;33m\u001b[0m\u001b[0m\n",
      "\u001b[1;32m~\\Anaconda3\\lib\\site-packages\\joblib\\parallel.py\u001b[0m in \u001b[0;36m__call__\u001b[1;34m(self, iterable)\u001b[0m\n\u001b[0;32m    922\u001b[0m                 \u001b[0mself\u001b[0m\u001b[1;33m.\u001b[0m\u001b[0m_iterating\u001b[0m \u001b[1;33m=\u001b[0m \u001b[0mself\u001b[0m\u001b[1;33m.\u001b[0m\u001b[0m_original_iterator\u001b[0m \u001b[1;32mis\u001b[0m \u001b[1;32mnot\u001b[0m \u001b[1;32mNone\u001b[0m\u001b[1;33m\u001b[0m\u001b[1;33m\u001b[0m\u001b[0m\n\u001b[0;32m    923\u001b[0m \u001b[1;33m\u001b[0m\u001b[0m\n\u001b[1;32m--> 924\u001b[1;33m             \u001b[1;32mwhile\u001b[0m \u001b[0mself\u001b[0m\u001b[1;33m.\u001b[0m\u001b[0mdispatch_one_batch\u001b[0m\u001b[1;33m(\u001b[0m\u001b[0miterator\u001b[0m\u001b[1;33m)\u001b[0m\u001b[1;33m:\u001b[0m\u001b[1;33m\u001b[0m\u001b[1;33m\u001b[0m\u001b[0m\n\u001b[0m\u001b[0;32m    925\u001b[0m                 \u001b[1;32mpass\u001b[0m\u001b[1;33m\u001b[0m\u001b[1;33m\u001b[0m\u001b[0m\n\u001b[0;32m    926\u001b[0m \u001b[1;33m\u001b[0m\u001b[0m\n",
      "\u001b[1;32m~\\Anaconda3\\lib\\site-packages\\joblib\\parallel.py\u001b[0m in \u001b[0;36mdispatch_one_batch\u001b[1;34m(self, iterator)\u001b[0m\n\u001b[0;32m    757\u001b[0m                 \u001b[1;32mreturn\u001b[0m \u001b[1;32mFalse\u001b[0m\u001b[1;33m\u001b[0m\u001b[1;33m\u001b[0m\u001b[0m\n\u001b[0;32m    758\u001b[0m             \u001b[1;32melse\u001b[0m\u001b[1;33m:\u001b[0m\u001b[1;33m\u001b[0m\u001b[1;33m\u001b[0m\u001b[0m\n\u001b[1;32m--> 759\u001b[1;33m                 \u001b[0mself\u001b[0m\u001b[1;33m.\u001b[0m\u001b[0m_dispatch\u001b[0m\u001b[1;33m(\u001b[0m\u001b[0mtasks\u001b[0m\u001b[1;33m)\u001b[0m\u001b[1;33m\u001b[0m\u001b[1;33m\u001b[0m\u001b[0m\n\u001b[0m\u001b[0;32m    760\u001b[0m                 \u001b[1;32mreturn\u001b[0m \u001b[1;32mTrue\u001b[0m\u001b[1;33m\u001b[0m\u001b[1;33m\u001b[0m\u001b[0m\n\u001b[0;32m    761\u001b[0m \u001b[1;33m\u001b[0m\u001b[0m\n",
      "\u001b[1;32m~\\Anaconda3\\lib\\site-packages\\joblib\\parallel.py\u001b[0m in \u001b[0;36m_dispatch\u001b[1;34m(self, batch)\u001b[0m\n\u001b[0;32m    714\u001b[0m         \u001b[1;32mwith\u001b[0m \u001b[0mself\u001b[0m\u001b[1;33m.\u001b[0m\u001b[0m_lock\u001b[0m\u001b[1;33m:\u001b[0m\u001b[1;33m\u001b[0m\u001b[1;33m\u001b[0m\u001b[0m\n\u001b[0;32m    715\u001b[0m             \u001b[0mjob_idx\u001b[0m \u001b[1;33m=\u001b[0m \u001b[0mlen\u001b[0m\u001b[1;33m(\u001b[0m\u001b[0mself\u001b[0m\u001b[1;33m.\u001b[0m\u001b[0m_jobs\u001b[0m\u001b[1;33m)\u001b[0m\u001b[1;33m\u001b[0m\u001b[1;33m\u001b[0m\u001b[0m\n\u001b[1;32m--> 716\u001b[1;33m             \u001b[0mjob\u001b[0m \u001b[1;33m=\u001b[0m \u001b[0mself\u001b[0m\u001b[1;33m.\u001b[0m\u001b[0m_backend\u001b[0m\u001b[1;33m.\u001b[0m\u001b[0mapply_async\u001b[0m\u001b[1;33m(\u001b[0m\u001b[0mbatch\u001b[0m\u001b[1;33m,\u001b[0m \u001b[0mcallback\u001b[0m\u001b[1;33m=\u001b[0m\u001b[0mcb\u001b[0m\u001b[1;33m)\u001b[0m\u001b[1;33m\u001b[0m\u001b[1;33m\u001b[0m\u001b[0m\n\u001b[0m\u001b[0;32m    717\u001b[0m             \u001b[1;31m# A job can complete so quickly than its callback is\u001b[0m\u001b[1;33m\u001b[0m\u001b[1;33m\u001b[0m\u001b[1;33m\u001b[0m\u001b[0m\n\u001b[0;32m    718\u001b[0m             \u001b[1;31m# called before we get here, causing self._jobs to\u001b[0m\u001b[1;33m\u001b[0m\u001b[1;33m\u001b[0m\u001b[1;33m\u001b[0m\u001b[0m\n",
      "\u001b[1;32m~\\Anaconda3\\lib\\site-packages\\joblib\\_parallel_backends.py\u001b[0m in \u001b[0;36mapply_async\u001b[1;34m(self, func, callback)\u001b[0m\n\u001b[0;32m    180\u001b[0m     \u001b[1;32mdef\u001b[0m \u001b[0mapply_async\u001b[0m\u001b[1;33m(\u001b[0m\u001b[0mself\u001b[0m\u001b[1;33m,\u001b[0m \u001b[0mfunc\u001b[0m\u001b[1;33m,\u001b[0m \u001b[0mcallback\u001b[0m\u001b[1;33m=\u001b[0m\u001b[1;32mNone\u001b[0m\u001b[1;33m)\u001b[0m\u001b[1;33m:\u001b[0m\u001b[1;33m\u001b[0m\u001b[1;33m\u001b[0m\u001b[0m\n\u001b[0;32m    181\u001b[0m         \u001b[1;34m\"\"\"Schedule a func to be run\"\"\"\u001b[0m\u001b[1;33m\u001b[0m\u001b[1;33m\u001b[0m\u001b[0m\n\u001b[1;32m--> 182\u001b[1;33m         \u001b[0mresult\u001b[0m \u001b[1;33m=\u001b[0m \u001b[0mImmediateResult\u001b[0m\u001b[1;33m(\u001b[0m\u001b[0mfunc\u001b[0m\u001b[1;33m)\u001b[0m\u001b[1;33m\u001b[0m\u001b[1;33m\u001b[0m\u001b[0m\n\u001b[0m\u001b[0;32m    183\u001b[0m         \u001b[1;32mif\u001b[0m \u001b[0mcallback\u001b[0m\u001b[1;33m:\u001b[0m\u001b[1;33m\u001b[0m\u001b[1;33m\u001b[0m\u001b[0m\n\u001b[0;32m    184\u001b[0m             \u001b[0mcallback\u001b[0m\u001b[1;33m(\u001b[0m\u001b[0mresult\u001b[0m\u001b[1;33m)\u001b[0m\u001b[1;33m\u001b[0m\u001b[1;33m\u001b[0m\u001b[0m\n",
      "\u001b[1;32m~\\Anaconda3\\lib\\site-packages\\joblib\\_parallel_backends.py\u001b[0m in \u001b[0;36m__init__\u001b[1;34m(self, batch)\u001b[0m\n\u001b[0;32m    547\u001b[0m         \u001b[1;31m# Don't delay the application, to avoid keeping the input\u001b[0m\u001b[1;33m\u001b[0m\u001b[1;33m\u001b[0m\u001b[1;33m\u001b[0m\u001b[0m\n\u001b[0;32m    548\u001b[0m         \u001b[1;31m# arguments in memory\u001b[0m\u001b[1;33m\u001b[0m\u001b[1;33m\u001b[0m\u001b[1;33m\u001b[0m\u001b[0m\n\u001b[1;32m--> 549\u001b[1;33m         \u001b[0mself\u001b[0m\u001b[1;33m.\u001b[0m\u001b[0mresults\u001b[0m \u001b[1;33m=\u001b[0m \u001b[0mbatch\u001b[0m\u001b[1;33m(\u001b[0m\u001b[1;33m)\u001b[0m\u001b[1;33m\u001b[0m\u001b[1;33m\u001b[0m\u001b[0m\n\u001b[0m\u001b[0;32m    550\u001b[0m \u001b[1;33m\u001b[0m\u001b[0m\n\u001b[0;32m    551\u001b[0m     \u001b[1;32mdef\u001b[0m \u001b[0mget\u001b[0m\u001b[1;33m(\u001b[0m\u001b[0mself\u001b[0m\u001b[1;33m)\u001b[0m\u001b[1;33m:\u001b[0m\u001b[1;33m\u001b[0m\u001b[1;33m\u001b[0m\u001b[0m\n",
      "\u001b[1;32m~\\Anaconda3\\lib\\site-packages\\joblib\\parallel.py\u001b[0m in \u001b[0;36m__call__\u001b[1;34m(self)\u001b[0m\n\u001b[0;32m    223\u001b[0m         \u001b[1;32mwith\u001b[0m \u001b[0mparallel_backend\u001b[0m\u001b[1;33m(\u001b[0m\u001b[0mself\u001b[0m\u001b[1;33m.\u001b[0m\u001b[0m_backend\u001b[0m\u001b[1;33m,\u001b[0m \u001b[0mn_jobs\u001b[0m\u001b[1;33m=\u001b[0m\u001b[0mself\u001b[0m\u001b[1;33m.\u001b[0m\u001b[0m_n_jobs\u001b[0m\u001b[1;33m)\u001b[0m\u001b[1;33m:\u001b[0m\u001b[1;33m\u001b[0m\u001b[1;33m\u001b[0m\u001b[0m\n\u001b[0;32m    224\u001b[0m             return [func(*args, **kwargs)\n\u001b[1;32m--> 225\u001b[1;33m                     for func, args, kwargs in self.items]\n\u001b[0m\u001b[0;32m    226\u001b[0m \u001b[1;33m\u001b[0m\u001b[0m\n\u001b[0;32m    227\u001b[0m     \u001b[1;32mdef\u001b[0m \u001b[0m__len__\u001b[0m\u001b[1;33m(\u001b[0m\u001b[0mself\u001b[0m\u001b[1;33m)\u001b[0m\u001b[1;33m:\u001b[0m\u001b[1;33m\u001b[0m\u001b[1;33m\u001b[0m\u001b[0m\n",
      "\u001b[1;32m~\\Anaconda3\\lib\\site-packages\\joblib\\parallel.py\u001b[0m in \u001b[0;36m<listcomp>\u001b[1;34m(.0)\u001b[0m\n\u001b[0;32m    223\u001b[0m         \u001b[1;32mwith\u001b[0m \u001b[0mparallel_backend\u001b[0m\u001b[1;33m(\u001b[0m\u001b[0mself\u001b[0m\u001b[1;33m.\u001b[0m\u001b[0m_backend\u001b[0m\u001b[1;33m,\u001b[0m \u001b[0mn_jobs\u001b[0m\u001b[1;33m=\u001b[0m\u001b[0mself\u001b[0m\u001b[1;33m.\u001b[0m\u001b[0m_n_jobs\u001b[0m\u001b[1;33m)\u001b[0m\u001b[1;33m:\u001b[0m\u001b[1;33m\u001b[0m\u001b[1;33m\u001b[0m\u001b[0m\n\u001b[0;32m    224\u001b[0m             return [func(*args, **kwargs)\n\u001b[1;32m--> 225\u001b[1;33m                     for func, args, kwargs in self.items]\n\u001b[0m\u001b[0;32m    226\u001b[0m \u001b[1;33m\u001b[0m\u001b[0m\n\u001b[0;32m    227\u001b[0m     \u001b[1;32mdef\u001b[0m \u001b[0m__len__\u001b[0m\u001b[1;33m(\u001b[0m\u001b[0mself\u001b[0m\u001b[1;33m)\u001b[0m\u001b[1;33m:\u001b[0m\u001b[1;33m\u001b[0m\u001b[1;33m\u001b[0m\u001b[0m\n",
      "\u001b[1;32m~\\Anaconda3\\lib\\site-packages\\sklearn\\model_selection\\_validation.py\u001b[0m in \u001b[0;36m_fit_and_score\u001b[1;34m(estimator, X, y, scorer, train, test, verbose, parameters, fit_params, return_train_score, return_parameters, return_n_test_samples, return_times, return_estimator, error_score)\u001b[0m\n\u001b[0;32m    505\u001b[0m     \u001b[0mstart_time\u001b[0m \u001b[1;33m=\u001b[0m \u001b[0mtime\u001b[0m\u001b[1;33m.\u001b[0m\u001b[0mtime\u001b[0m\u001b[1;33m(\u001b[0m\u001b[1;33m)\u001b[0m\u001b[1;33m\u001b[0m\u001b[1;33m\u001b[0m\u001b[0m\n\u001b[0;32m    506\u001b[0m \u001b[1;33m\u001b[0m\u001b[0m\n\u001b[1;32m--> 507\u001b[1;33m     \u001b[0mX_train\u001b[0m\u001b[1;33m,\u001b[0m \u001b[0my_train\u001b[0m \u001b[1;33m=\u001b[0m \u001b[0m_safe_split\u001b[0m\u001b[1;33m(\u001b[0m\u001b[0mestimator\u001b[0m\u001b[1;33m,\u001b[0m \u001b[0mX\u001b[0m\u001b[1;33m,\u001b[0m \u001b[0my\u001b[0m\u001b[1;33m,\u001b[0m \u001b[0mtrain\u001b[0m\u001b[1;33m)\u001b[0m\u001b[1;33m\u001b[0m\u001b[1;33m\u001b[0m\u001b[0m\n\u001b[0m\u001b[0;32m    508\u001b[0m     \u001b[0mX_test\u001b[0m\u001b[1;33m,\u001b[0m \u001b[0my_test\u001b[0m \u001b[1;33m=\u001b[0m \u001b[0m_safe_split\u001b[0m\u001b[1;33m(\u001b[0m\u001b[0mestimator\u001b[0m\u001b[1;33m,\u001b[0m \u001b[0mX\u001b[0m\u001b[1;33m,\u001b[0m \u001b[0my\u001b[0m\u001b[1;33m,\u001b[0m \u001b[0mtest\u001b[0m\u001b[1;33m,\u001b[0m \u001b[0mtrain\u001b[0m\u001b[1;33m)\u001b[0m\u001b[1;33m\u001b[0m\u001b[1;33m\u001b[0m\u001b[0m\n\u001b[0;32m    509\u001b[0m \u001b[1;33m\u001b[0m\u001b[0m\n",
      "\u001b[1;32m~\\Anaconda3\\lib\\site-packages\\sklearn\\utils\\metaestimators.py\u001b[0m in \u001b[0;36m_safe_split\u001b[1;34m(estimator, X, y, indices, train_indices)\u001b[0m\n\u001b[0;32m    199\u001b[0m             \u001b[0mX_subset\u001b[0m \u001b[1;33m=\u001b[0m \u001b[0mX\u001b[0m\u001b[1;33m[\u001b[0m\u001b[0mnp\u001b[0m\u001b[1;33m.\u001b[0m\u001b[0mix_\u001b[0m\u001b[1;33m(\u001b[0m\u001b[0mindices\u001b[0m\u001b[1;33m,\u001b[0m \u001b[0mtrain_indices\u001b[0m\u001b[1;33m)\u001b[0m\u001b[1;33m]\u001b[0m\u001b[1;33m\u001b[0m\u001b[1;33m\u001b[0m\u001b[0m\n\u001b[0;32m    200\u001b[0m     \u001b[1;32melse\u001b[0m\u001b[1;33m:\u001b[0m\u001b[1;33m\u001b[0m\u001b[1;33m\u001b[0m\u001b[0m\n\u001b[1;32m--> 201\u001b[1;33m         \u001b[0mX_subset\u001b[0m \u001b[1;33m=\u001b[0m \u001b[0msafe_indexing\u001b[0m\u001b[1;33m(\u001b[0m\u001b[0mX\u001b[0m\u001b[1;33m,\u001b[0m \u001b[0mindices\u001b[0m\u001b[1;33m)\u001b[0m\u001b[1;33m\u001b[0m\u001b[1;33m\u001b[0m\u001b[0m\n\u001b[0m\u001b[0;32m    202\u001b[0m \u001b[1;33m\u001b[0m\u001b[0m\n\u001b[0;32m    203\u001b[0m     \u001b[1;32mif\u001b[0m \u001b[0my\u001b[0m \u001b[1;32mis\u001b[0m \u001b[1;32mnot\u001b[0m \u001b[1;32mNone\u001b[0m\u001b[1;33m:\u001b[0m\u001b[1;33m\u001b[0m\u001b[1;33m\u001b[0m\u001b[0m\n",
      "\u001b[1;32m~\\Anaconda3\\lib\\site-packages\\sklearn\\utils\\__init__.py\u001b[0m in \u001b[0;36msafe_indexing\u001b[1;34m(X, indices)\u001b[0m\n\u001b[0;32m    217\u001b[0m                                    indices.dtype.kind == 'i'):\n\u001b[0;32m    218\u001b[0m             \u001b[1;31m# This is often substantially faster than X[indices]\u001b[0m\u001b[1;33m\u001b[0m\u001b[1;33m\u001b[0m\u001b[1;33m\u001b[0m\u001b[0m\n\u001b[1;32m--> 219\u001b[1;33m             \u001b[1;32mreturn\u001b[0m \u001b[0mX\u001b[0m\u001b[1;33m.\u001b[0m\u001b[0mtake\u001b[0m\u001b[1;33m(\u001b[0m\u001b[0mindices\u001b[0m\u001b[1;33m,\u001b[0m \u001b[0maxis\u001b[0m\u001b[1;33m=\u001b[0m\u001b[1;36m0\u001b[0m\u001b[1;33m)\u001b[0m\u001b[1;33m\u001b[0m\u001b[1;33m\u001b[0m\u001b[0m\n\u001b[0m\u001b[0;32m    220\u001b[0m         \u001b[1;32melse\u001b[0m\u001b[1;33m:\u001b[0m\u001b[1;33m\u001b[0m\u001b[1;33m\u001b[0m\u001b[0m\n\u001b[0;32m    221\u001b[0m             \u001b[1;32mreturn\u001b[0m \u001b[0mX\u001b[0m\u001b[1;33m[\u001b[0m\u001b[0mindices\u001b[0m\u001b[1;33m]\u001b[0m\u001b[1;33m\u001b[0m\u001b[1;33m\u001b[0m\u001b[0m\n",
      "\u001b[1;31mKeyboardInterrupt\u001b[0m: "
     ]
    }
   ],
   "source": [
    "gs = KBest_GS(X_train_2, y_train, X_test_2, y_test, model_SVC, param_grid_SVC, X_train2)"
   ]
  },
  {
   "cell_type": "markdown",
   "metadata": {},
   "source": [
    "--- \n",
    "#### Using the features extracted from the VGG"
   ]
  },
  {
   "cell_type": "code",
   "execution_count": 324,
   "metadata": {},
   "outputs": [],
   "source": [
    "X_train_df_3 = pd.concat([radiomics_train, VGG_DF_train], axis=1)\n",
    "X_test_df_3 = pd.concat([radiomics_test, VGG_DF_test], axis=1)"
   ]
  },
  {
   "cell_type": "code",
   "execution_count": 325,
   "metadata": {},
   "outputs": [],
   "source": [
    "X_train, y_train = processing(X_train_df_3, y_train)\n",
    "X_test, y_test = processing(X_test_df_3, y_test)"
   ]
  },
  {
   "cell_type": "markdown",
   "metadata": {},
   "source": [
    "--- \n",
    "#### Using the features extracted from the AlexNetDil"
   ]
  },
  {
   "cell_type": "code",
   "execution_count": 175,
   "metadata": {},
   "outputs": [],
   "source": [
    "X_train1, X_test1 = testing_model(radiomics_train, AlexNetdil_DF_train_ED, radiomics_test, AlexNetdil_DF_test_ED).concatenate()\n",
    "X_train2, X_test2 = testing_model(radiomics_train, AlexNetdil_DF_train_ES, radiomics_test, AlexNetdil_DF_test_ES).concatenate()\n",
    "X_train3, X_test3 = testing_model(radiomics_train, AlexNetdil_DF_train, radiomics_test, AlexNetdil_DF_test).concatenate()\n",
    "X_train4, X_test4 = testing_model(radiomics_train, AlexNetdil_DF_train_tot, radiomics_test, AlexNetdil_DF_test_tot).concatenate()"
   ]
  },
  {
   "cell_type": "code",
   "execution_count": 215,
   "metadata": {},
   "outputs": [
    {
     "data": {
      "text/plain": [
       "(100, 898)"
      ]
     },
     "execution_count": 215,
     "metadata": {},
     "output_type": "execute_result"
    }
   ],
   "source": [
    "X_train1.shape"
   ]
  },
  {
   "cell_type": "markdown",
   "metadata": {},
   "source": [
    "--- \n",
    "#### Using the features extracted from the Late Merging Model"
   ]
  },
  {
   "cell_type": "code",
   "execution_count": 262,
   "metadata": {},
   "outputs": [],
   "source": [
    "X_train1, X_test1 = testing_model(radiomics_train, LM_train_ED, radiomics_test, LM_DF_test_ED).concatenate()\n",
    "X_train2, X_test2 = testing_model(radiomics_train, LM_train_ES, radiomics_test, LM_DF_test_ES).concatenate()\n",
    "X_train3, X_test3 = testing_model(radiomics_train, LM_train, radiomics_test, LM_test).concatenate()\n",
    "X_train4, X_test4 = testing_model(radiomics_train, LM_train_tot, radiomics_test, LM_test_tot).concatenate()"
   ]
  },
  {
   "cell_type": "code",
   "execution_count": 263,
   "metadata": {},
   "outputs": [],
   "source": [
    "X_train_1, y_train = processing(X_train1, y_train)\n",
    "X_test_1, y_test = processing(X_test1, y_test)"
   ]
  },
  {
   "cell_type": "code",
   "execution_count": 264,
   "metadata": {},
   "outputs": [],
   "source": [
    "X_train_2, y_train = processing(X_train2, y_train)\n",
    "X_test_2, y_test = processing(X_test2, y_test)"
   ]
  },
  {
   "cell_type": "code",
   "execution_count": 265,
   "metadata": {},
   "outputs": [],
   "source": [
    "X_train_3, y_train = processing(X_train3, y_train)\n",
    "X_test_3, y_test = processing(X_test3, y_test)"
   ]
  },
  {
   "cell_type": "code",
   "execution_count": 266,
   "metadata": {},
   "outputs": [],
   "source": [
    "X_train_4, y_train = processing(X_train4, y_train)\n",
    "X_test_4, y_test = processing(X_test4, y_test)"
   ]
  },
  {
   "cell_type": "code",
   "execution_count": null,
   "metadata": {},
   "outputs": [],
   "source": [
    "#gs = KBest_GS(X_train_2, y_train, X_test_2, y_test, model_SVC, param_grid_SVC, X_train2)"
   ]
  }
 ],
 "metadata": {
  "kernelspec": {
   "display_name": "Python 3",
   "language": "python",
   "name": "python3"
  },
  "language_info": {
   "codemirror_mode": {
    "name": "ipython",
    "version": 3
   },
   "file_extension": ".py",
   "mimetype": "text/x-python",
   "name": "python",
   "nbconvert_exporter": "python",
   "pygments_lexer": "ipython3",
   "version": "3.7.4"
  }
 },
 "nbformat": 4,
 "nbformat_minor": 2
}
